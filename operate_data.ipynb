{
 "cells": [
  {
   "cell_type": "code",
   "execution_count": 1,
   "metadata": {
    "collapsed": true,
    "pycharm": {
     "name": "#%%\n"
    }
   },
   "outputs": [],
   "source": [
    "import sqlite3\n",
    "import pandas as pd\n",
    "\n",
    "# 连接到SQLite数据库\n",
    "conn = sqlite3.connect('Olympic.db')"
   ]
  },
  {
   "cell_type": "code",
   "execution_count": 46,
   "outputs": [
    {
     "data": {
      "text/plain": "                    name\n0  imported_olympic_data\n1                Country\n2                Athlete\n3                  Sport\n4                  Event\n5      Events_Of_Country\n6      Events_Of_Athlete\n7       Games_Of_Country\n8                   Game\n9         Events_Of_Game",
      "text/html": "<div>\n<style scoped>\n    .dataframe tbody tr th:only-of-type {\n        vertical-align: middle;\n    }\n\n    .dataframe tbody tr th {\n        vertical-align: top;\n    }\n\n    .dataframe thead th {\n        text-align: right;\n    }\n</style>\n<table border=\"1\" class=\"dataframe\">\n  <thead>\n    <tr style=\"text-align: right;\">\n      <th></th>\n      <th>name</th>\n    </tr>\n  </thead>\n  <tbody>\n    <tr>\n      <th>0</th>\n      <td>imported_olympic_data</td>\n    </tr>\n    <tr>\n      <th>1</th>\n      <td>Country</td>\n    </tr>\n    <tr>\n      <th>2</th>\n      <td>Athlete</td>\n    </tr>\n    <tr>\n      <th>3</th>\n      <td>Sport</td>\n    </tr>\n    <tr>\n      <th>4</th>\n      <td>Event</td>\n    </tr>\n    <tr>\n      <th>5</th>\n      <td>Events_Of_Country</td>\n    </tr>\n    <tr>\n      <th>6</th>\n      <td>Events_Of_Athlete</td>\n    </tr>\n    <tr>\n      <th>7</th>\n      <td>Games_Of_Country</td>\n    </tr>\n    <tr>\n      <th>8</th>\n      <td>Game</td>\n    </tr>\n    <tr>\n      <th>9</th>\n      <td>Events_Of_Game</td>\n    </tr>\n  </tbody>\n</table>\n</div>"
     },
     "execution_count": 46,
     "metadata": {},
     "output_type": "execute_result"
    }
   ],
   "source": [
    "# 获取所有表的名称\n",
    "query = \"SELECT name FROM sqlite_master WHERE type='table';\"\n",
    "\n",
    "# 执行查询并将结果存储为DataFrame\n",
    "tables = pd.read_sql_query(query, conn)\n",
    "tables"
   ],
   "metadata": {
    "collapsed": false,
    "pycharm": {
     "name": "#%%\n"
    }
   }
  },
  {
   "cell_type": "code",
   "execution_count": 3,
   "outputs": [
    {
     "data": {
      "text/plain": "            ID                      Name Sex Age Height Weight  \\\n0            1                 A Dijiang   M  24    180     80   \n1            2                  A Lamusi   M  23    170     60   \n2            3       Gunnar Nielsen Aaby   M  24     NA     NA   \n3            4      Edgar Lindenau Aabye   M  34     NA     NA   \n4            5  Christine Jacoba Aaftink   F  21    185     82   \n...        ...                       ...  ..  ..    ...    ...   \n271111  135569                Andrzej ya   M  29    179     89   \n271112  135570                  Piotr ya   M  27    176     59   \n271113  135570                  Piotr ya   M  27    176     59   \n271114  135571        Tomasz Ireneusz ya   M  30    185     96   \n271115  135571        Tomasz Ireneusz ya   M  34    185     96   \n\n                  Team  NOC        Games  Year  Season            City  \\\n0                China  CHN  1992 Summer  1992  Summer       Barcelona   \n1                China  CHN  2012 Summer  2012  Summer          London   \n2              Denmark  DEN  1920 Summer  1920  Summer       Antwerpen   \n3       Denmark/Sweden  DEN  1900 Summer  1900  Summer           Paris   \n4          Netherlands  NED  1988 Winter  1988  Winter         Calgary   \n...                ...  ...          ...   ...     ...             ...   \n271111        Poland-1  POL  1976 Winter  1976  Winter       Innsbruck   \n271112          Poland  POL  2014 Winter  2014  Winter           Sochi   \n271113          Poland  POL  2014 Winter  2014  Winter           Sochi   \n271114          Poland  POL  1998 Winter  1998  Winter          Nagano   \n271115          Poland  POL  2002 Winter  2002  Winter  Salt Lake City   \n\n                Sport                                     Event Medal  \n0          Basketball               Basketball Men's Basketball    NA  \n1                Judo              Judo Men's Extra-Lightweight    NA  \n2            Football                   Football Men's Football    NA  \n3          Tug-Of-War               Tug-Of-War Men's Tug-Of-War  Gold  \n4       Speed Skating          Speed Skating Women's 500 metres    NA  \n...               ...                                       ...   ...  \n271111           Luge                Luge Mixed (Men)'s Doubles    NA  \n271112    Ski Jumping  Ski Jumping Men's Large Hill, Individual    NA  \n271113    Ski Jumping        Ski Jumping Men's Large Hill, Team    NA  \n271114      Bobsleigh                      Bobsleigh Men's Four    NA  \n271115      Bobsleigh                      Bobsleigh Men's Four    NA  \n\n[271116 rows x 15 columns]",
      "text/html": "<div>\n<style scoped>\n    .dataframe tbody tr th:only-of-type {\n        vertical-align: middle;\n    }\n\n    .dataframe tbody tr th {\n        vertical-align: top;\n    }\n\n    .dataframe thead th {\n        text-align: right;\n    }\n</style>\n<table border=\"1\" class=\"dataframe\">\n  <thead>\n    <tr style=\"text-align: right;\">\n      <th></th>\n      <th>ID</th>\n      <th>Name</th>\n      <th>Sex</th>\n      <th>Age</th>\n      <th>Height</th>\n      <th>Weight</th>\n      <th>Team</th>\n      <th>NOC</th>\n      <th>Games</th>\n      <th>Year</th>\n      <th>Season</th>\n      <th>City</th>\n      <th>Sport</th>\n      <th>Event</th>\n      <th>Medal</th>\n    </tr>\n  </thead>\n  <tbody>\n    <tr>\n      <th>0</th>\n      <td>1</td>\n      <td>A Dijiang</td>\n      <td>M</td>\n      <td>24</td>\n      <td>180</td>\n      <td>80</td>\n      <td>China</td>\n      <td>CHN</td>\n      <td>1992 Summer</td>\n      <td>1992</td>\n      <td>Summer</td>\n      <td>Barcelona</td>\n      <td>Basketball</td>\n      <td>Basketball Men's Basketball</td>\n      <td>NA</td>\n    </tr>\n    <tr>\n      <th>1</th>\n      <td>2</td>\n      <td>A Lamusi</td>\n      <td>M</td>\n      <td>23</td>\n      <td>170</td>\n      <td>60</td>\n      <td>China</td>\n      <td>CHN</td>\n      <td>2012 Summer</td>\n      <td>2012</td>\n      <td>Summer</td>\n      <td>London</td>\n      <td>Judo</td>\n      <td>Judo Men's Extra-Lightweight</td>\n      <td>NA</td>\n    </tr>\n    <tr>\n      <th>2</th>\n      <td>3</td>\n      <td>Gunnar Nielsen Aaby</td>\n      <td>M</td>\n      <td>24</td>\n      <td>NA</td>\n      <td>NA</td>\n      <td>Denmark</td>\n      <td>DEN</td>\n      <td>1920 Summer</td>\n      <td>1920</td>\n      <td>Summer</td>\n      <td>Antwerpen</td>\n      <td>Football</td>\n      <td>Football Men's Football</td>\n      <td>NA</td>\n    </tr>\n    <tr>\n      <th>3</th>\n      <td>4</td>\n      <td>Edgar Lindenau Aabye</td>\n      <td>M</td>\n      <td>34</td>\n      <td>NA</td>\n      <td>NA</td>\n      <td>Denmark/Sweden</td>\n      <td>DEN</td>\n      <td>1900 Summer</td>\n      <td>1900</td>\n      <td>Summer</td>\n      <td>Paris</td>\n      <td>Tug-Of-War</td>\n      <td>Tug-Of-War Men's Tug-Of-War</td>\n      <td>Gold</td>\n    </tr>\n    <tr>\n      <th>4</th>\n      <td>5</td>\n      <td>Christine Jacoba Aaftink</td>\n      <td>F</td>\n      <td>21</td>\n      <td>185</td>\n      <td>82</td>\n      <td>Netherlands</td>\n      <td>NED</td>\n      <td>1988 Winter</td>\n      <td>1988</td>\n      <td>Winter</td>\n      <td>Calgary</td>\n      <td>Speed Skating</td>\n      <td>Speed Skating Women's 500 metres</td>\n      <td>NA</td>\n    </tr>\n    <tr>\n      <th>...</th>\n      <td>...</td>\n      <td>...</td>\n      <td>...</td>\n      <td>...</td>\n      <td>...</td>\n      <td>...</td>\n      <td>...</td>\n      <td>...</td>\n      <td>...</td>\n      <td>...</td>\n      <td>...</td>\n      <td>...</td>\n      <td>...</td>\n      <td>...</td>\n      <td>...</td>\n    </tr>\n    <tr>\n      <th>271111</th>\n      <td>135569</td>\n      <td>Andrzej ya</td>\n      <td>M</td>\n      <td>29</td>\n      <td>179</td>\n      <td>89</td>\n      <td>Poland-1</td>\n      <td>POL</td>\n      <td>1976 Winter</td>\n      <td>1976</td>\n      <td>Winter</td>\n      <td>Innsbruck</td>\n      <td>Luge</td>\n      <td>Luge Mixed (Men)'s Doubles</td>\n      <td>NA</td>\n    </tr>\n    <tr>\n      <th>271112</th>\n      <td>135570</td>\n      <td>Piotr ya</td>\n      <td>M</td>\n      <td>27</td>\n      <td>176</td>\n      <td>59</td>\n      <td>Poland</td>\n      <td>POL</td>\n      <td>2014 Winter</td>\n      <td>2014</td>\n      <td>Winter</td>\n      <td>Sochi</td>\n      <td>Ski Jumping</td>\n      <td>Ski Jumping Men's Large Hill, Individual</td>\n      <td>NA</td>\n    </tr>\n    <tr>\n      <th>271113</th>\n      <td>135570</td>\n      <td>Piotr ya</td>\n      <td>M</td>\n      <td>27</td>\n      <td>176</td>\n      <td>59</td>\n      <td>Poland</td>\n      <td>POL</td>\n      <td>2014 Winter</td>\n      <td>2014</td>\n      <td>Winter</td>\n      <td>Sochi</td>\n      <td>Ski Jumping</td>\n      <td>Ski Jumping Men's Large Hill, Team</td>\n      <td>NA</td>\n    </tr>\n    <tr>\n      <th>271114</th>\n      <td>135571</td>\n      <td>Tomasz Ireneusz ya</td>\n      <td>M</td>\n      <td>30</td>\n      <td>185</td>\n      <td>96</td>\n      <td>Poland</td>\n      <td>POL</td>\n      <td>1998 Winter</td>\n      <td>1998</td>\n      <td>Winter</td>\n      <td>Nagano</td>\n      <td>Bobsleigh</td>\n      <td>Bobsleigh Men's Four</td>\n      <td>NA</td>\n    </tr>\n    <tr>\n      <th>271115</th>\n      <td>135571</td>\n      <td>Tomasz Ireneusz ya</td>\n      <td>M</td>\n      <td>34</td>\n      <td>185</td>\n      <td>96</td>\n      <td>Poland</td>\n      <td>POL</td>\n      <td>2002 Winter</td>\n      <td>2002</td>\n      <td>Winter</td>\n      <td>Salt Lake City</td>\n      <td>Bobsleigh</td>\n      <td>Bobsleigh Men's Four</td>\n      <td>NA</td>\n    </tr>\n  </tbody>\n</table>\n<p>271116 rows × 15 columns</p>\n</div>"
     },
     "execution_count": 3,
     "metadata": {},
     "output_type": "execute_result"
    }
   ],
   "source": [
    "# 指定表名\n",
    "table_name = 'imported_olympic_data'\n",
    "\n",
    "# 执行查询并将结果存储为DataFrame\n",
    "query = f\"SELECT * FROM {table_name};\"\n",
    "table_data = pd.read_sql_query(query, conn)\n",
    "table_data"
   ],
   "metadata": {
    "collapsed": false,
    "pycharm": {
     "name": "#%%\n"
    }
   }
  },
  {
   "cell_type": "markdown",
   "source": [
    "Query columns"
   ],
   "metadata": {
    "collapsed": false,
    "pycharm": {
     "name": "#%% md\n"
    }
   }
  },
  {
   "cell_type": "code",
   "execution_count": 10,
   "outputs": [
    {
     "name": "stdout",
     "output_type": "stream",
     "text": [
      "Index(['ID', 'Name', 'Sex', 'Age', 'Height', 'Weight', 'Team', 'NOC', 'Games',\n",
      "       'Year', 'Season', 'City', 'Sport', 'Event', 'Medal'],\n",
      "      dtype='object')\n"
     ]
    }
   ],
   "source": [
    "columns = table_data.columns\n",
    "print(columns)"
   ],
   "metadata": {
    "collapsed": false,
    "pycharm": {
     "name": "#%%\n"
    }
   }
  },
  {
   "cell_type": "code",
   "execution_count": 11,
   "outputs": [
    {
     "data": {
      "text/plain": "Event\nAeronautics Mixed Aeronautics                        1\nAlpine Skiing Men's Combined                       569\nAlpine Skiing Men's Downhill                      1164\nAlpine Skiing Men's Giant Slalom                  1535\nAlpine Skiing Men's Slalom                        1593\n                                                  ... \nWrestling Women's Flyweight, Freestyle              68\nWrestling Women's Heavyweight, Freestyle            64\nWrestling Women's Light-Heavyweight, Freestyle      18\nWrestling Women's Lightweight, Freestyle            67\nWrestling Women's Middleweight, Freestyle           68\nName: ID, Length: 765, dtype: int64"
     },
     "execution_count": 11,
     "metadata": {},
     "output_type": "execute_result"
    }
   ],
   "source": [
    "grouped_counts = table_data.groupby('Event')['ID'].count()\n",
    "\n",
    "# 打印分组计数结果\n",
    "grouped_counts"
   ],
   "metadata": {
    "collapsed": false,
    "pycharm": {
     "name": "#%%\n"
    }
   }
  },
  {
   "cell_type": "code",
   "execution_count": 13,
   "outputs": [
    {
     "data": {
      "text/plain": "<sqlite3.Cursor at 0x1f7f758db90>"
     },
     "execution_count": 13,
     "metadata": {},
     "output_type": "execute_result"
    }
   ],
   "source": [
    "\n",
    "# 创建Country表\n",
    "conn.execute('''\n",
    "    CREATE TABLE IF NOT EXISTS Country (\n",
    "        Country_ID INTEGER PRIMARY KEY,\n",
    "        Name TEXT,\n",
    "        NOC TEXT\n",
    "    )\n",
    "''')\n",
    "\n",
    "# 创建Athlete表\n",
    "conn.execute('''\n",
    "    CREATE TABLE IF NOT EXISTS Athlete (\n",
    "        Athlete_ID INTEGER PRIMARY KEY,\n",
    "        Name TEXT,\n",
    "        Sex TEXT,\n",
    "        Age INTEGER,\n",
    "        Height TEXT,\n",
    "        Weight TEXT,\n",
    "        Team TEXT,\n",
    "        Medal TEXT,\n",
    "        Country_ID INTEGER,\n",
    "        FOREIGN KEY (Country_ID) REFERENCES Country(Country_ID)\n",
    "    )\n",
    "''')\n",
    "\n",
    "# 创建Sport表\n",
    "conn.execute('''\n",
    "    CREATE TABLE IF NOT EXISTS Sport (\n",
    "        Sport_ID INTEGER PRIMARY KEY,\n",
    "        Sport TEXT\n",
    "    )\n",
    "''')\n",
    "\n",
    "# 创建Event表\n",
    "conn.execute('''\n",
    "    CREATE TABLE IF NOT EXISTS Event (\n",
    "        Event_ID INTEGER PRIMARY KEY,\n",
    "        Event_Name TEXT,\n",
    "        Sport_ID INTEGER,\n",
    "        FOREIGN KEY (Sport_ID) REFERENCES Sport(Sport_ID)\n",
    "    )\n",
    "''')\n",
    "\n",
    "# 创建Game表\n",
    "conn.execute('''\n",
    "    CREATE TABLE IF NOT EXISTS Game (\n",
    "        Game_ID INTEGER PRIMARY KEY,\n",
    "        Games,\n",
    "        Year INTEGER,\n",
    "        Season TEXT,\n",
    "        City TEXT\n",
    "    )\n",
    "''')\n",
    "\n",
    "# 创建Events_Of_Country表\n",
    "conn.execute('''\n",
    "    CREATE TABLE IF NOT EXISTS Events_Of_Country (\n",
    "        ID INTEGER PRIMARY KEY,\n",
    "        Country_ID INTEGER,\n",
    "        Event_ID INTEGER,\n",
    "        FOREIGN KEY (Country_ID) REFERENCES Country(Country_ID),\n",
    "        FOREIGN KEY (Event_ID) REFERENCES Event(Event_ID)\n",
    "    )\n",
    "''')\n",
    "\n",
    "\n",
    "# 创建Events_Of_Athlete表\n",
    "conn.execute('''\n",
    "    CREATE TABLE IF NOT EXISTS Events_Of_Athlete (\n",
    "        ID INTEGER PRIMARY KEY,\n",
    "        Athlete_ID INTEGER,\n",
    "        Event_ID INTEGER,\n",
    "        FOREIGN KEY (Athlete_ID) REFERENCES Athlete(Athlete_ID),\n",
    "        FOREIGN KEY (Event_ID) REFERENCES Event(Event_ID)\n",
    "    )\n",
    "''')\n",
    "\n",
    "# 创建Games_Of_Country表\n",
    "conn.execute('''\n",
    "    CREATE TABLE IF NOT EXISTS Games_Of_Country (\n",
    "        ID INTEGER PRIMARY KEY,\n",
    "        Country_ID INTEGER,\n",
    "        Game_ID INTEGER,\n",
    "        FOREIGN KEY (Country_ID) REFERENCES Country(Country_ID),\n",
    "        FOREIGN KEY (Game_ID) REFERENCES Game(Game_ID)\n",
    "    )\n",
    "''')\n",
    "\n",
    "# 创建Events_Of_Game表\n",
    "conn.execute('''\n",
    "    CREATE TABLE IF NOT EXISTS Events_Of_Game (\n",
    "        ID INTEGER PRIMARY KEY,\n",
    "        Game_ID INTEGER,\n",
    "        Event_ID INTEGER,\n",
    "        FOREIGN KEY (Game_ID) REFERENCES Game(Game_ID),\n",
    "        FOREIGN KEY (Event_ID) REFERENCES Event(Event_ID)\n",
    "    )\n",
    "''')\n"
   ],
   "metadata": {
    "collapsed": false,
    "pycharm": {
     "name": "#%%\n"
    }
   }
  },
  {
   "cell_type": "code",
   "execution_count": 26,
   "outputs": [
    {
     "data": {
      "text/plain": "<sqlite3.Cursor at 0x2a0bd10cea0>"
     },
     "execution_count": 26,
     "metadata": {},
     "output_type": "execute_result"
    }
   ],
   "source": [
    "# 创建Events_Of_Game表\n",
    "conn.execute('''\n",
    "    CREATE TABLE IF NOT EXISTS Events_Of_Game (\n",
    "        ID INTEGER PRIMARY KEY,\n",
    "        Game_ID INTEGER,\n",
    "        Event_ID INTEGER,\n",
    "        FOREIGN KEY (Game_ID) REFERENCES Game(Game_ID),\n",
    "        FOREIGN KEY (Event_ID) REFERENCES Event(Event_ID)\n",
    "    )\n",
    "''')"
   ],
   "metadata": {
    "collapsed": false,
    "pycharm": {
     "name": "#%%\n"
    }
   }
  },
  {
   "cell_type": "code",
   "execution_count": 4,
   "outputs": [
    {
     "data": {
      "text/plain": "                    name\n0  imported_olympic_data\n1                Country\n2                Athlete\n3                  Sport\n4                  Event\n5      Events_Of_Country\n6      Events_Of_Athlete\n7       Games_Of_Country\n8                   Game",
      "text/html": "<div>\n<style scoped>\n    .dataframe tbody tr th:only-of-type {\n        vertical-align: middle;\n    }\n\n    .dataframe tbody tr th {\n        vertical-align: top;\n    }\n\n    .dataframe thead th {\n        text-align: right;\n    }\n</style>\n<table border=\"1\" class=\"dataframe\">\n  <thead>\n    <tr style=\"text-align: right;\">\n      <th></th>\n      <th>name</th>\n    </tr>\n  </thead>\n  <tbody>\n    <tr>\n      <th>0</th>\n      <td>imported_olympic_data</td>\n    </tr>\n    <tr>\n      <th>1</th>\n      <td>Country</td>\n    </tr>\n    <tr>\n      <th>2</th>\n      <td>Athlete</td>\n    </tr>\n    <tr>\n      <th>3</th>\n      <td>Sport</td>\n    </tr>\n    <tr>\n      <th>4</th>\n      <td>Event</td>\n    </tr>\n    <tr>\n      <th>5</th>\n      <td>Events_Of_Country</td>\n    </tr>\n    <tr>\n      <th>6</th>\n      <td>Events_Of_Athlete</td>\n    </tr>\n    <tr>\n      <th>7</th>\n      <td>Games_Of_Country</td>\n    </tr>\n    <tr>\n      <th>8</th>\n      <td>Game</td>\n    </tr>\n  </tbody>\n</table>\n</div>"
     },
     "execution_count": 4,
     "metadata": {},
     "output_type": "execute_result"
    }
   ],
   "source": [
    "# 获取当前所有表的名称\n",
    "query = \"SELECT name FROM sqlite_master WHERE type='table';\"\n",
    "\n",
    "# 执行查询并将结果存储为DataFrame\n",
    "tables = pd.read_sql_query(query, conn)\n",
    "tables"
   ],
   "metadata": {
    "collapsed": false,
    "pycharm": {
     "name": "#%%\n"
    }
   }
  },
  {
   "cell_type": "markdown",
   "source": [
    "Insert datas"
   ],
   "metadata": {
    "collapsed": false,
    "pycharm": {
     "name": "#%% md\n"
    }
   }
  },
  {
   "cell_type": "code",
   "execution_count": 7,
   "outputs": [
    {
     "data": {
      "text/plain": "     NOC\n0    AFG\n1    AHO\n2    ALB\n3    ALG\n4    AND\n..   ...\n225  YEM\n226  YMD\n227  YUG\n228  ZAM\n229  ZIM\n\n[230 rows x 1 columns]",
      "text/html": "<div>\n<style scoped>\n    .dataframe tbody tr th:only-of-type {\n        vertical-align: middle;\n    }\n\n    .dataframe tbody tr th {\n        vertical-align: top;\n    }\n\n    .dataframe thead th {\n        text-align: right;\n    }\n</style>\n<table border=\"1\" class=\"dataframe\">\n  <thead>\n    <tr style=\"text-align: right;\">\n      <th></th>\n      <th>NOC</th>\n    </tr>\n  </thead>\n  <tbody>\n    <tr>\n      <th>0</th>\n      <td>AFG</td>\n    </tr>\n    <tr>\n      <th>1</th>\n      <td>AHO</td>\n    </tr>\n    <tr>\n      <th>2</th>\n      <td>ALB</td>\n    </tr>\n    <tr>\n      <th>3</th>\n      <td>ALG</td>\n    </tr>\n    <tr>\n      <th>4</th>\n      <td>AND</td>\n    </tr>\n    <tr>\n      <th>...</th>\n      <td>...</td>\n    </tr>\n    <tr>\n      <th>225</th>\n      <td>YEM</td>\n    </tr>\n    <tr>\n      <th>226</th>\n      <td>YMD</td>\n    </tr>\n    <tr>\n      <th>227</th>\n      <td>YUG</td>\n    </tr>\n    <tr>\n      <th>228</th>\n      <td>ZAM</td>\n    </tr>\n    <tr>\n      <th>229</th>\n      <td>ZIM</td>\n    </tr>\n  </tbody>\n</table>\n<p>230 rows × 1 columns</p>\n</div>"
     },
     "execution_count": 7,
     "metadata": {},
     "output_type": "execute_result"
    }
   ],
   "source": [
    "# 执行查询并将结果存储为DataFrame\n",
    "query = f\"SELECT NOC FROM {table_name} group by NOC;\"\n",
    "country_data = pd.read_sql_query(query, conn)\n",
    "country_data"
   ],
   "metadata": {
    "collapsed": false,
    "pycharm": {
     "name": "#%%\n"
    }
   }
  },
  {
   "cell_type": "code",
   "execution_count": 8,
   "outputs": [],
   "source": [
    "conn.execute('DELETE FROM Country')\n",
    "\n",
    "# 从table_data中逐行读取数据并插入到各个表中\n",
    "for index, row in country_data.iterrows():\n",
    "    # 插入Country表\n",
    "    country_query = f\"INSERT INTO Country (Country_ID, Name, NOC) VALUES ({index+1}, '{row.NOC}', '{row.NOC}')\"\n",
    "    conn.execute(country_query)\n",
    "conn.commit()"
   ],
   "metadata": {
    "collapsed": false,
    "pycharm": {
     "name": "#%%\n"
    }
   }
  },
  {
   "cell_type": "code",
   "execution_count": 9,
   "outputs": [
    {
     "data": {
      "text/plain": "     Country_ID  NOC\n0             1  AFG\n1             2  AHO\n2             3  ALB\n3             4  ALG\n4             5  AND\n..          ...  ...\n225         226  YEM\n226         227  YMD\n227         228  YUG\n228         229  ZAM\n229         230  ZIM\n\n[230 rows x 2 columns]",
      "text/html": "<div>\n<style scoped>\n    .dataframe tbody tr th:only-of-type {\n        vertical-align: middle;\n    }\n\n    .dataframe tbody tr th {\n        vertical-align: top;\n    }\n\n    .dataframe thead th {\n        text-align: right;\n    }\n</style>\n<table border=\"1\" class=\"dataframe\">\n  <thead>\n    <tr style=\"text-align: right;\">\n      <th></th>\n      <th>Country_ID</th>\n      <th>NOC</th>\n    </tr>\n  </thead>\n  <tbody>\n    <tr>\n      <th>0</th>\n      <td>1</td>\n      <td>AFG</td>\n    </tr>\n    <tr>\n      <th>1</th>\n      <td>2</td>\n      <td>AHO</td>\n    </tr>\n    <tr>\n      <th>2</th>\n      <td>3</td>\n      <td>ALB</td>\n    </tr>\n    <tr>\n      <th>3</th>\n      <td>4</td>\n      <td>ALG</td>\n    </tr>\n    <tr>\n      <th>4</th>\n      <td>5</td>\n      <td>AND</td>\n    </tr>\n    <tr>\n      <th>...</th>\n      <td>...</td>\n      <td>...</td>\n    </tr>\n    <tr>\n      <th>225</th>\n      <td>226</td>\n      <td>YEM</td>\n    </tr>\n    <tr>\n      <th>226</th>\n      <td>227</td>\n      <td>YMD</td>\n    </tr>\n    <tr>\n      <th>227</th>\n      <td>228</td>\n      <td>YUG</td>\n    </tr>\n    <tr>\n      <th>228</th>\n      <td>229</td>\n      <td>ZAM</td>\n    </tr>\n    <tr>\n      <th>229</th>\n      <td>230</td>\n      <td>ZIM</td>\n    </tr>\n  </tbody>\n</table>\n<p>230 rows × 2 columns</p>\n</div>"
     },
     "execution_count": 9,
     "metadata": {},
     "output_type": "execute_result"
    }
   ],
   "source": [
    "query = f\"SELECT DISTINCT Country_ID, NOC FROM Country;\"\n",
    "Country = pd.read_sql_query(query, conn)\n",
    "Country"
   ],
   "metadata": {
    "collapsed": false,
    "pycharm": {
     "name": "#%%\n"
    }
   }
  },
  {
   "cell_type": "code",
   "execution_count": 10,
   "outputs": [
    {
     "data": {
      "text/plain": "     index  NOC\n0        1  AFG\n1        2  AHO\n2        3  ALB\n3        4  ALG\n4        5  AND\n..     ...  ...\n225    226  YEM\n226    227  YMD\n227    228  YUG\n228    229  ZAM\n229    230  ZIM\n\n[230 rows x 2 columns]",
      "text/html": "<div>\n<style scoped>\n    .dataframe tbody tr th:only-of-type {\n        vertical-align: middle;\n    }\n\n    .dataframe tbody tr th {\n        vertical-align: top;\n    }\n\n    .dataframe thead th {\n        text-align: right;\n    }\n</style>\n<table border=\"1\" class=\"dataframe\">\n  <thead>\n    <tr style=\"text-align: right;\">\n      <th></th>\n      <th>index</th>\n      <th>NOC</th>\n    </tr>\n  </thead>\n  <tbody>\n    <tr>\n      <th>0</th>\n      <td>1</td>\n      <td>AFG</td>\n    </tr>\n    <tr>\n      <th>1</th>\n      <td>2</td>\n      <td>AHO</td>\n    </tr>\n    <tr>\n      <th>2</th>\n      <td>3</td>\n      <td>ALB</td>\n    </tr>\n    <tr>\n      <th>3</th>\n      <td>4</td>\n      <td>ALG</td>\n    </tr>\n    <tr>\n      <th>4</th>\n      <td>5</td>\n      <td>AND</td>\n    </tr>\n    <tr>\n      <th>...</th>\n      <td>...</td>\n      <td>...</td>\n    </tr>\n    <tr>\n      <th>225</th>\n      <td>226</td>\n      <td>YEM</td>\n    </tr>\n    <tr>\n      <th>226</th>\n      <td>227</td>\n      <td>YMD</td>\n    </tr>\n    <tr>\n      <th>227</th>\n      <td>228</td>\n      <td>YUG</td>\n    </tr>\n    <tr>\n      <th>228</th>\n      <td>229</td>\n      <td>ZAM</td>\n    </tr>\n    <tr>\n      <th>229</th>\n      <td>230</td>\n      <td>ZIM</td>\n    </tr>\n  </tbody>\n</table>\n<p>230 rows × 2 columns</p>\n</div>"
     },
     "execution_count": 10,
     "metadata": {},
     "output_type": "execute_result"
    }
   ],
   "source": [
    "country_data = country_data.reset_index()\n",
    "country_data['index'] = country_data['index'] + 1\n",
    "country_data"
   ],
   "metadata": {
    "collapsed": false,
    "pycharm": {
     "name": "#%%\n"
    }
   }
  },
  {
   "cell_type": "code",
   "execution_count": 111,
   "outputs": [
    {
     "data": {
      "text/plain": "     index  NOC\n0        1  AFG\n1        2  AHO\n2        3  ALB\n3        4  ALG\n4        5  AND\n..     ...  ...\n225    226  YEM\n226    227  YMD\n227    228  YUG\n228    229  ZAM\n229    230  ZIM\n\n[230 rows x 2 columns]",
      "text/html": "<div>\n<style scoped>\n    .dataframe tbody tr th:only-of-type {\n        vertical-align: middle;\n    }\n\n    .dataframe tbody tr th {\n        vertical-align: top;\n    }\n\n    .dataframe thead th {\n        text-align: right;\n    }\n</style>\n<table border=\"1\" class=\"dataframe\">\n  <thead>\n    <tr style=\"text-align: right;\">\n      <th></th>\n      <th>index</th>\n      <th>NOC</th>\n    </tr>\n  </thead>\n  <tbody>\n    <tr>\n      <th>0</th>\n      <td>1</td>\n      <td>AFG</td>\n    </tr>\n    <tr>\n      <th>1</th>\n      <td>2</td>\n      <td>AHO</td>\n    </tr>\n    <tr>\n      <th>2</th>\n      <td>3</td>\n      <td>ALB</td>\n    </tr>\n    <tr>\n      <th>3</th>\n      <td>4</td>\n      <td>ALG</td>\n    </tr>\n    <tr>\n      <th>4</th>\n      <td>5</td>\n      <td>AND</td>\n    </tr>\n    <tr>\n      <th>...</th>\n      <td>...</td>\n      <td>...</td>\n    </tr>\n    <tr>\n      <th>225</th>\n      <td>226</td>\n      <td>YEM</td>\n    </tr>\n    <tr>\n      <th>226</th>\n      <td>227</td>\n      <td>YMD</td>\n    </tr>\n    <tr>\n      <th>227</th>\n      <td>228</td>\n      <td>YUG</td>\n    </tr>\n    <tr>\n      <th>228</th>\n      <td>229</td>\n      <td>ZAM</td>\n    </tr>\n    <tr>\n      <th>229</th>\n      <td>230</td>\n      <td>ZIM</td>\n    </tr>\n  </tbody>\n</table>\n<p>230 rows × 2 columns</p>\n</div>"
     },
     "execution_count": 111,
     "metadata": {},
     "output_type": "execute_result"
    }
   ],
   "source": [
    "country_data = country_data[['index', 'NOC']]\n",
    "country_data"
   ],
   "metadata": {
    "collapsed": false,
    "pycharm": {
     "name": "#%%\n"
    }
   }
  },
  {
   "cell_type": "code",
   "execution_count": 4,
   "outputs": [
    {
     "data": {
      "text/plain": "         index                                       Name Sex Age Height  \\\n0            1    Gabrielle Marie \"Gabby\" Adcock (White-)   F  25    167   \n1            2        Eleonora Margarida Josephina Scmitt   F  16     NA   \n2            3                            Jean Hauptmanns   M  26     NA   \n3            4    Luis ngel Fernando de los Santos Grossi   M  23     NA   \n4            5    Luis ngel Fernando de los Santos Grossi   M  27     NA   \n...        ...                                        ...  ..  ..    ...   \n199476  199477                                  zlem Kaya   F  26    165   \n199477  199478                                 zman Graud   M  33    168   \n199478  199479                                 zzet Safer   M  26    178   \n199479  199480                                   zzet nce   M  23    172   \n199480  199481                                   zzet nce   M  27    172   \n\n       Weight           Team Medal  Country_ID  \n0          NA  Great Britain    NA          75  \n1          NA         Brazil    NA          30  \n2          NA        Germany    NA          80  \n3          NA        Uruguay    NA         216  \n4          NA        Uruguay    NA         216  \n...       ...            ...   ...         ...  \n199476     47         Turkey    NA         208  \n199477     72         Turkey    NA         208  \n199478     74         Turkey    NA         208  \n199479     85         Turkey    NA         208  \n199480     85         Turkey    NA         208  \n\n[199481 rows x 9 columns]",
      "text/html": "<div>\n<style scoped>\n    .dataframe tbody tr th:only-of-type {\n        vertical-align: middle;\n    }\n\n    .dataframe tbody tr th {\n        vertical-align: top;\n    }\n\n    .dataframe thead th {\n        text-align: right;\n    }\n</style>\n<table border=\"1\" class=\"dataframe\">\n  <thead>\n    <tr style=\"text-align: right;\">\n      <th></th>\n      <th>index</th>\n      <th>Name</th>\n      <th>Sex</th>\n      <th>Age</th>\n      <th>Height</th>\n      <th>Weight</th>\n      <th>Team</th>\n      <th>Medal</th>\n      <th>Country_ID</th>\n    </tr>\n  </thead>\n  <tbody>\n    <tr>\n      <th>0</th>\n      <td>1</td>\n      <td>Gabrielle Marie \"Gabby\" Adcock (White-)</td>\n      <td>F</td>\n      <td>25</td>\n      <td>167</td>\n      <td>NA</td>\n      <td>Great Britain</td>\n      <td>NA</td>\n      <td>75</td>\n    </tr>\n    <tr>\n      <th>1</th>\n      <td>2</td>\n      <td>Eleonora Margarida Josephina Scmitt</td>\n      <td>F</td>\n      <td>16</td>\n      <td>NA</td>\n      <td>NA</td>\n      <td>Brazil</td>\n      <td>NA</td>\n      <td>30</td>\n    </tr>\n    <tr>\n      <th>2</th>\n      <td>3</td>\n      <td>Jean Hauptmanns</td>\n      <td>M</td>\n      <td>26</td>\n      <td>NA</td>\n      <td>NA</td>\n      <td>Germany</td>\n      <td>NA</td>\n      <td>80</td>\n    </tr>\n    <tr>\n      <th>3</th>\n      <td>4</td>\n      <td>Luis ngel Fernando de los Santos Grossi</td>\n      <td>M</td>\n      <td>23</td>\n      <td>NA</td>\n      <td>NA</td>\n      <td>Uruguay</td>\n      <td>NA</td>\n      <td>216</td>\n    </tr>\n    <tr>\n      <th>4</th>\n      <td>5</td>\n      <td>Luis ngel Fernando de los Santos Grossi</td>\n      <td>M</td>\n      <td>27</td>\n      <td>NA</td>\n      <td>NA</td>\n      <td>Uruguay</td>\n      <td>NA</td>\n      <td>216</td>\n    </tr>\n    <tr>\n      <th>...</th>\n      <td>...</td>\n      <td>...</td>\n      <td>...</td>\n      <td>...</td>\n      <td>...</td>\n      <td>...</td>\n      <td>...</td>\n      <td>...</td>\n      <td>...</td>\n    </tr>\n    <tr>\n      <th>199476</th>\n      <td>199477</td>\n      <td>zlem Kaya</td>\n      <td>F</td>\n      <td>26</td>\n      <td>165</td>\n      <td>47</td>\n      <td>Turkey</td>\n      <td>NA</td>\n      <td>208</td>\n    </tr>\n    <tr>\n      <th>199477</th>\n      <td>199478</td>\n      <td>zman Graud</td>\n      <td>M</td>\n      <td>33</td>\n      <td>168</td>\n      <td>72</td>\n      <td>Turkey</td>\n      <td>NA</td>\n      <td>208</td>\n    </tr>\n    <tr>\n      <th>199478</th>\n      <td>199479</td>\n      <td>zzet Safer</td>\n      <td>M</td>\n      <td>26</td>\n      <td>178</td>\n      <td>74</td>\n      <td>Turkey</td>\n      <td>NA</td>\n      <td>208</td>\n    </tr>\n    <tr>\n      <th>199479</th>\n      <td>199480</td>\n      <td>zzet nce</td>\n      <td>M</td>\n      <td>23</td>\n      <td>172</td>\n      <td>85</td>\n      <td>Turkey</td>\n      <td>NA</td>\n      <td>208</td>\n    </tr>\n    <tr>\n      <th>199480</th>\n      <td>199481</td>\n      <td>zzet nce</td>\n      <td>M</td>\n      <td>27</td>\n      <td>172</td>\n      <td>85</td>\n      <td>Turkey</td>\n      <td>NA</td>\n      <td>208</td>\n    </tr>\n  </tbody>\n</table>\n<p>199481 rows × 9 columns</p>\n</div>"
     },
     "execution_count": 4,
     "metadata": {},
     "output_type": "execute_result"
    }
   ],
   "source": [
    "# 执行查询并将结果存储为DataFrame\n",
    "query = f\"SELECT a.Name, a.Sex, a.Age, a.Height, a.Weight, a.Team, a.Medal, (SELECT Country_ID FROM Country c WHERE c.NOC = a.NOC) as Country_ID  FROM {table_name} a group by a.Name, a.Sex, a.Age, a.Height, a.Weight, a.Team, a.Medal, a.NOC;\"\n",
    "athlete_data = pd.read_sql_query(query, conn)\n",
    "athlete_data = athlete_data.reset_index()\n",
    "athlete_data['index'] = athlete_data['index'] + 1\n",
    "athlete_data\n"
   ],
   "metadata": {
    "collapsed": false,
    "pycharm": {
     "name": "#%%\n"
    }
   }
  },
  {
   "cell_type": "code",
   "execution_count": 5,
   "outputs": [],
   "source": [
    "conn.execute(\"DELETE from Athlete\")\n",
    "\n",
    "# 从table_data中逐行读取数据并插入到各个表中\n",
    "for index, row in athlete_data.iterrows():\n",
    "    # 插入Athlete表\n",
    "    athlete_query = f\"INSERT INTO Athlete VALUES (?, ?, ?, ?, ?, ?, ?, ?, ?)\"\n",
    "    row = [None if pd.isna(value) or value == 'NA' else value for value in row]\n",
    "    conn.execute(athlete_query, row)\n",
    "conn.commit()"
   ],
   "metadata": {
    "collapsed": false,
    "pycharm": {
     "name": "#%%\n"
    }
   }
  },
  {
   "cell_type": "code",
   "execution_count": 6,
   "outputs": [
    {
     "data": {
      "text/plain": "    Athlete_ID                                       Name Sex   Age Height  \\\n0            1    Gabrielle Marie \"Gabby\" Adcock (White-)   F  25.0    167   \n1            2        Eleonora Margarida Josephina Scmitt   F  16.0   None   \n2            3                            Jean Hauptmanns   M  26.0   None   \n3            4    Luis ngel Fernando de los Santos Grossi   M  23.0   None   \n4            5    Luis ngel Fernando de los Santos Grossi   M  27.0   None   \n5            6                                     Th Anh   F  20.0    165   \n6            7                                Th Ngn Thng   F  19.0    147   \n7            8                                Th Ngn Thng   F  23.0    147   \n8            9                                    Tin Tun   M  21.0    173   \n9           10                                  A Dijiang   M  24.0    180   \n10          11                                   A Lamusi   M  23.0    170   \n11          12                   A. Aanantha Sambu Mayavo   M  26.0   None   \n12          13                            A. Abdul Razzak   M   NaN    178   \n13          14                                  A. Albert   M   NaN   None   \n14          15                                    A. Brun   F   NaN   None   \n15          16                                 A. Buydens   M   NaN   None   \n16          17                             A. Charles Six   M   NaN   None   \n17          18                               A. Christory   M   NaN   None   \n18          19                                  A. Darnis   M   NaN   None   \n19          20                                  A. Dubois   M   NaN   None   \n20          21                                  A. Dubois   M   NaN   None   \n21          22                                  A. Dubois   M   NaN   None   \n22          23                              A. Duponcheel   M   NaN   None   \n23          24                                 A. E. Page   M   NaN   None   \n24          25                              A. G. Chagale   M   NaN   None   \n25          26             A. Germaine Golding (Regnier-)   F   NaN   None   \n26          27             A. Germaine Golding (Regnier-)   F   NaN   None   \n27          28                                 A. Godinat   M   NaN   None   \n28          29                          A. Hurtado Vargas   M   NaN   None   \n29          30                           A. Hussain Ahmed   M   NaN   None   \n30          31                             A. J. J. Fridt   M   NaN   None   \n31          32    A. J. Tyronne Benildus \"Benny\" Fernando   M  27.0    179   \n32          33                      A. Joshua \"Josh\" West   M  27.0    207   \n33          34                      A. Joshua \"Josh\" West   M  31.0    207   \n34          35                                A. Kordonis   M   NaN   None   \n35          36                                  A. Laffen   M   NaN   None   \n36          37                              A. Lafontaine   M   NaN   None   \n37          38                          A. Lambrecht, Jr.   M   NaN   None   \n38          39                                   A. Lawry   M   NaN   None   \n39          40                                A. M. Woods   M   NaN   None   \n40          41                               A. O. Pinner   M   NaN   None   \n41          42                               A. Papadakis   M   NaN   None   \n42          43                                 A. Porcher   M   NaN   None   \n43          44                                 A. Priftis   M   NaN   None   \n44          45                                A. R. Upton   M   NaN   None   \n45          46                                   A. Roger   M   NaN   None   \n46          47                               A. S. Harley   M   NaN   None   \n47          48                          A. Sattar Basheer   M   NaN   None   \n48          49                                 A. Schmitt   M   NaN   None   \n49          50                            A. Tark Erilmez   M   NaN   None   \n\n   Weight                                            Team   Medal  Country_ID  \n0    None                                   Great Britain    None          75  \n1    None                                          Brazil    None          30  \n2    None                                         Germany    None          80  \n3    None                                         Uruguay    None         216  \n4    None                                         Uruguay    None         216  \n5      58                                         Vietnam    None         221  \n6      47                                         Vietnam    None         221  \n7      47                                         Vietnam    None         221  \n8      63                                         Vietnam    None         221  \n9      80                                           China    None          42  \n10     60                                           China    None          42  \n11   None                                        Malaysia    None         127  \n12     70                                            Iraq    None          97  \n13   None  Union des Socits Franais de Sports Athletiques    Gold          70  \n14   None                                          France    None          70  \n15   None                                         Belgium    None          20  \n16   None                                          France    None          70  \n17   None                                          France    None          70  \n18   None                                          France    None          70  \n19   None                                        Gitana-2  Bronze          70  \n20   None                                        Gitana-2  Silver          70  \n21   None                                       Gitana-21    None          70  \n22   None                                          France    None          70  \n23   None                                   Great Britain    None          75  \n24   None                                           India    None          93  \n25   None                                          France    None          70  \n26   None                                        France-1    None          70  \n27   None                                          France    None          70  \n28   None                                           Chile    None          41  \n29   None                                           India    None          93  \n30   None                                             Ubu    None          20  \n31     70                                       Sri Lanka    None         187  \n32    105                                   Great Britain    None          75  \n33    105                                   Great Britain  Silver          75  \n34   None              Phalainis ton Thorichtou \"Psara\"-3    None          82  \n35   None                                         Unknown    None         214  \n36   None                                          France    None          70  \n37   None                                         Belgium    None          20  \n38   None                                        Cornwall  Silver          75  \n39   None          St. Louis Amateur Athletic Association  Silver         217  \n40   None                                   Great Britain    None          75  \n41   None                                          Greece    None          82  \n42   None                                          France    None          70  \n43   None                                          Greece    None          82  \n44   None           Brussels Swimming and Water Polo Club  Silver          20  \n45   None                                          France    None          70  \n46   None                                   Great Britain    None          75  \n47   None                                           India    None          93  \n48   None                                     Switzerland    None         191  \n49   None                                          Turkey    None         208  ",
      "text/html": "<div>\n<style scoped>\n    .dataframe tbody tr th:only-of-type {\n        vertical-align: middle;\n    }\n\n    .dataframe tbody tr th {\n        vertical-align: top;\n    }\n\n    .dataframe thead th {\n        text-align: right;\n    }\n</style>\n<table border=\"1\" class=\"dataframe\">\n  <thead>\n    <tr style=\"text-align: right;\">\n      <th></th>\n      <th>Athlete_ID</th>\n      <th>Name</th>\n      <th>Sex</th>\n      <th>Age</th>\n      <th>Height</th>\n      <th>Weight</th>\n      <th>Team</th>\n      <th>Medal</th>\n      <th>Country_ID</th>\n    </tr>\n  </thead>\n  <tbody>\n    <tr>\n      <th>0</th>\n      <td>1</td>\n      <td>Gabrielle Marie \"Gabby\" Adcock (White-)</td>\n      <td>F</td>\n      <td>25.0</td>\n      <td>167</td>\n      <td>None</td>\n      <td>Great Britain</td>\n      <td>None</td>\n      <td>75</td>\n    </tr>\n    <tr>\n      <th>1</th>\n      <td>2</td>\n      <td>Eleonora Margarida Josephina Scmitt</td>\n      <td>F</td>\n      <td>16.0</td>\n      <td>None</td>\n      <td>None</td>\n      <td>Brazil</td>\n      <td>None</td>\n      <td>30</td>\n    </tr>\n    <tr>\n      <th>2</th>\n      <td>3</td>\n      <td>Jean Hauptmanns</td>\n      <td>M</td>\n      <td>26.0</td>\n      <td>None</td>\n      <td>None</td>\n      <td>Germany</td>\n      <td>None</td>\n      <td>80</td>\n    </tr>\n    <tr>\n      <th>3</th>\n      <td>4</td>\n      <td>Luis ngel Fernando de los Santos Grossi</td>\n      <td>M</td>\n      <td>23.0</td>\n      <td>None</td>\n      <td>None</td>\n      <td>Uruguay</td>\n      <td>None</td>\n      <td>216</td>\n    </tr>\n    <tr>\n      <th>4</th>\n      <td>5</td>\n      <td>Luis ngel Fernando de los Santos Grossi</td>\n      <td>M</td>\n      <td>27.0</td>\n      <td>None</td>\n      <td>None</td>\n      <td>Uruguay</td>\n      <td>None</td>\n      <td>216</td>\n    </tr>\n    <tr>\n      <th>5</th>\n      <td>6</td>\n      <td>Th Anh</td>\n      <td>F</td>\n      <td>20.0</td>\n      <td>165</td>\n      <td>58</td>\n      <td>Vietnam</td>\n      <td>None</td>\n      <td>221</td>\n    </tr>\n    <tr>\n      <th>6</th>\n      <td>7</td>\n      <td>Th Ngn Thng</td>\n      <td>F</td>\n      <td>19.0</td>\n      <td>147</td>\n      <td>47</td>\n      <td>Vietnam</td>\n      <td>None</td>\n      <td>221</td>\n    </tr>\n    <tr>\n      <th>7</th>\n      <td>8</td>\n      <td>Th Ngn Thng</td>\n      <td>F</td>\n      <td>23.0</td>\n      <td>147</td>\n      <td>47</td>\n      <td>Vietnam</td>\n      <td>None</td>\n      <td>221</td>\n    </tr>\n    <tr>\n      <th>8</th>\n      <td>9</td>\n      <td>Tin Tun</td>\n      <td>M</td>\n      <td>21.0</td>\n      <td>173</td>\n      <td>63</td>\n      <td>Vietnam</td>\n      <td>None</td>\n      <td>221</td>\n    </tr>\n    <tr>\n      <th>9</th>\n      <td>10</td>\n      <td>A Dijiang</td>\n      <td>M</td>\n      <td>24.0</td>\n      <td>180</td>\n      <td>80</td>\n      <td>China</td>\n      <td>None</td>\n      <td>42</td>\n    </tr>\n    <tr>\n      <th>10</th>\n      <td>11</td>\n      <td>A Lamusi</td>\n      <td>M</td>\n      <td>23.0</td>\n      <td>170</td>\n      <td>60</td>\n      <td>China</td>\n      <td>None</td>\n      <td>42</td>\n    </tr>\n    <tr>\n      <th>11</th>\n      <td>12</td>\n      <td>A. Aanantha Sambu Mayavo</td>\n      <td>M</td>\n      <td>26.0</td>\n      <td>None</td>\n      <td>None</td>\n      <td>Malaysia</td>\n      <td>None</td>\n      <td>127</td>\n    </tr>\n    <tr>\n      <th>12</th>\n      <td>13</td>\n      <td>A. Abdul Razzak</td>\n      <td>M</td>\n      <td>NaN</td>\n      <td>178</td>\n      <td>70</td>\n      <td>Iraq</td>\n      <td>None</td>\n      <td>97</td>\n    </tr>\n    <tr>\n      <th>13</th>\n      <td>14</td>\n      <td>A. Albert</td>\n      <td>M</td>\n      <td>NaN</td>\n      <td>None</td>\n      <td>None</td>\n      <td>Union des Socits Franais de Sports Athletiques</td>\n      <td>Gold</td>\n      <td>70</td>\n    </tr>\n    <tr>\n      <th>14</th>\n      <td>15</td>\n      <td>A. Brun</td>\n      <td>F</td>\n      <td>NaN</td>\n      <td>None</td>\n      <td>None</td>\n      <td>France</td>\n      <td>None</td>\n      <td>70</td>\n    </tr>\n    <tr>\n      <th>15</th>\n      <td>16</td>\n      <td>A. Buydens</td>\n      <td>M</td>\n      <td>NaN</td>\n      <td>None</td>\n      <td>None</td>\n      <td>Belgium</td>\n      <td>None</td>\n      <td>20</td>\n    </tr>\n    <tr>\n      <th>16</th>\n      <td>17</td>\n      <td>A. Charles Six</td>\n      <td>M</td>\n      <td>NaN</td>\n      <td>None</td>\n      <td>None</td>\n      <td>France</td>\n      <td>None</td>\n      <td>70</td>\n    </tr>\n    <tr>\n      <th>17</th>\n      <td>18</td>\n      <td>A. Christory</td>\n      <td>M</td>\n      <td>NaN</td>\n      <td>None</td>\n      <td>None</td>\n      <td>France</td>\n      <td>None</td>\n      <td>70</td>\n    </tr>\n    <tr>\n      <th>18</th>\n      <td>19</td>\n      <td>A. Darnis</td>\n      <td>M</td>\n      <td>NaN</td>\n      <td>None</td>\n      <td>None</td>\n      <td>France</td>\n      <td>None</td>\n      <td>70</td>\n    </tr>\n    <tr>\n      <th>19</th>\n      <td>20</td>\n      <td>A. Dubois</td>\n      <td>M</td>\n      <td>NaN</td>\n      <td>None</td>\n      <td>None</td>\n      <td>Gitana-2</td>\n      <td>Bronze</td>\n      <td>70</td>\n    </tr>\n    <tr>\n      <th>20</th>\n      <td>21</td>\n      <td>A. Dubois</td>\n      <td>M</td>\n      <td>NaN</td>\n      <td>None</td>\n      <td>None</td>\n      <td>Gitana-2</td>\n      <td>Silver</td>\n      <td>70</td>\n    </tr>\n    <tr>\n      <th>21</th>\n      <td>22</td>\n      <td>A. Dubois</td>\n      <td>M</td>\n      <td>NaN</td>\n      <td>None</td>\n      <td>None</td>\n      <td>Gitana-21</td>\n      <td>None</td>\n      <td>70</td>\n    </tr>\n    <tr>\n      <th>22</th>\n      <td>23</td>\n      <td>A. Duponcheel</td>\n      <td>M</td>\n      <td>NaN</td>\n      <td>None</td>\n      <td>None</td>\n      <td>France</td>\n      <td>None</td>\n      <td>70</td>\n    </tr>\n    <tr>\n      <th>23</th>\n      <td>24</td>\n      <td>A. E. Page</td>\n      <td>M</td>\n      <td>NaN</td>\n      <td>None</td>\n      <td>None</td>\n      <td>Great Britain</td>\n      <td>None</td>\n      <td>75</td>\n    </tr>\n    <tr>\n      <th>24</th>\n      <td>25</td>\n      <td>A. G. Chagale</td>\n      <td>M</td>\n      <td>NaN</td>\n      <td>None</td>\n      <td>None</td>\n      <td>India</td>\n      <td>None</td>\n      <td>93</td>\n    </tr>\n    <tr>\n      <th>25</th>\n      <td>26</td>\n      <td>A. Germaine Golding (Regnier-)</td>\n      <td>F</td>\n      <td>NaN</td>\n      <td>None</td>\n      <td>None</td>\n      <td>France</td>\n      <td>None</td>\n      <td>70</td>\n    </tr>\n    <tr>\n      <th>26</th>\n      <td>27</td>\n      <td>A. Germaine Golding (Regnier-)</td>\n      <td>F</td>\n      <td>NaN</td>\n      <td>None</td>\n      <td>None</td>\n      <td>France-1</td>\n      <td>None</td>\n      <td>70</td>\n    </tr>\n    <tr>\n      <th>27</th>\n      <td>28</td>\n      <td>A. Godinat</td>\n      <td>M</td>\n      <td>NaN</td>\n      <td>None</td>\n      <td>None</td>\n      <td>France</td>\n      <td>None</td>\n      <td>70</td>\n    </tr>\n    <tr>\n      <th>28</th>\n      <td>29</td>\n      <td>A. Hurtado Vargas</td>\n      <td>M</td>\n      <td>NaN</td>\n      <td>None</td>\n      <td>None</td>\n      <td>Chile</td>\n      <td>None</td>\n      <td>41</td>\n    </tr>\n    <tr>\n      <th>29</th>\n      <td>30</td>\n      <td>A. Hussain Ahmed</td>\n      <td>M</td>\n      <td>NaN</td>\n      <td>None</td>\n      <td>None</td>\n      <td>India</td>\n      <td>None</td>\n      <td>93</td>\n    </tr>\n    <tr>\n      <th>30</th>\n      <td>31</td>\n      <td>A. J. J. Fridt</td>\n      <td>M</td>\n      <td>NaN</td>\n      <td>None</td>\n      <td>None</td>\n      <td>Ubu</td>\n      <td>None</td>\n      <td>20</td>\n    </tr>\n    <tr>\n      <th>31</th>\n      <td>32</td>\n      <td>A. J. Tyronne Benildus \"Benny\" Fernando</td>\n      <td>M</td>\n      <td>27.0</td>\n      <td>179</td>\n      <td>70</td>\n      <td>Sri Lanka</td>\n      <td>None</td>\n      <td>187</td>\n    </tr>\n    <tr>\n      <th>32</th>\n      <td>33</td>\n      <td>A. Joshua \"Josh\" West</td>\n      <td>M</td>\n      <td>27.0</td>\n      <td>207</td>\n      <td>105</td>\n      <td>Great Britain</td>\n      <td>None</td>\n      <td>75</td>\n    </tr>\n    <tr>\n      <th>33</th>\n      <td>34</td>\n      <td>A. Joshua \"Josh\" West</td>\n      <td>M</td>\n      <td>31.0</td>\n      <td>207</td>\n      <td>105</td>\n      <td>Great Britain</td>\n      <td>Silver</td>\n      <td>75</td>\n    </tr>\n    <tr>\n      <th>34</th>\n      <td>35</td>\n      <td>A. Kordonis</td>\n      <td>M</td>\n      <td>NaN</td>\n      <td>None</td>\n      <td>None</td>\n      <td>Phalainis ton Thorichtou \"Psara\"-3</td>\n      <td>None</td>\n      <td>82</td>\n    </tr>\n    <tr>\n      <th>35</th>\n      <td>36</td>\n      <td>A. Laffen</td>\n      <td>M</td>\n      <td>NaN</td>\n      <td>None</td>\n      <td>None</td>\n      <td>Unknown</td>\n      <td>None</td>\n      <td>214</td>\n    </tr>\n    <tr>\n      <th>36</th>\n      <td>37</td>\n      <td>A. Lafontaine</td>\n      <td>M</td>\n      <td>NaN</td>\n      <td>None</td>\n      <td>None</td>\n      <td>France</td>\n      <td>None</td>\n      <td>70</td>\n    </tr>\n    <tr>\n      <th>37</th>\n      <td>38</td>\n      <td>A. Lambrecht, Jr.</td>\n      <td>M</td>\n      <td>NaN</td>\n      <td>None</td>\n      <td>None</td>\n      <td>Belgium</td>\n      <td>None</td>\n      <td>20</td>\n    </tr>\n    <tr>\n      <th>38</th>\n      <td>39</td>\n      <td>A. Lawry</td>\n      <td>M</td>\n      <td>NaN</td>\n      <td>None</td>\n      <td>None</td>\n      <td>Cornwall</td>\n      <td>Silver</td>\n      <td>75</td>\n    </tr>\n    <tr>\n      <th>39</th>\n      <td>40</td>\n      <td>A. M. Woods</td>\n      <td>M</td>\n      <td>NaN</td>\n      <td>None</td>\n      <td>None</td>\n      <td>St. Louis Amateur Athletic Association</td>\n      <td>Silver</td>\n      <td>217</td>\n    </tr>\n    <tr>\n      <th>40</th>\n      <td>41</td>\n      <td>A. O. Pinner</td>\n      <td>M</td>\n      <td>NaN</td>\n      <td>None</td>\n      <td>None</td>\n      <td>Great Britain</td>\n      <td>None</td>\n      <td>75</td>\n    </tr>\n    <tr>\n      <th>41</th>\n      <td>42</td>\n      <td>A. Papadakis</td>\n      <td>M</td>\n      <td>NaN</td>\n      <td>None</td>\n      <td>None</td>\n      <td>Greece</td>\n      <td>None</td>\n      <td>82</td>\n    </tr>\n    <tr>\n      <th>42</th>\n      <td>43</td>\n      <td>A. Porcher</td>\n      <td>M</td>\n      <td>NaN</td>\n      <td>None</td>\n      <td>None</td>\n      <td>France</td>\n      <td>None</td>\n      <td>70</td>\n    </tr>\n    <tr>\n      <th>43</th>\n      <td>44</td>\n      <td>A. Priftis</td>\n      <td>M</td>\n      <td>NaN</td>\n      <td>None</td>\n      <td>None</td>\n      <td>Greece</td>\n      <td>None</td>\n      <td>82</td>\n    </tr>\n    <tr>\n      <th>44</th>\n      <td>45</td>\n      <td>A. R. Upton</td>\n      <td>M</td>\n      <td>NaN</td>\n      <td>None</td>\n      <td>None</td>\n      <td>Brussels Swimming and Water Polo Club</td>\n      <td>Silver</td>\n      <td>20</td>\n    </tr>\n    <tr>\n      <th>45</th>\n      <td>46</td>\n      <td>A. Roger</td>\n      <td>M</td>\n      <td>NaN</td>\n      <td>None</td>\n      <td>None</td>\n      <td>France</td>\n      <td>None</td>\n      <td>70</td>\n    </tr>\n    <tr>\n      <th>46</th>\n      <td>47</td>\n      <td>A. S. Harley</td>\n      <td>M</td>\n      <td>NaN</td>\n      <td>None</td>\n      <td>None</td>\n      <td>Great Britain</td>\n      <td>None</td>\n      <td>75</td>\n    </tr>\n    <tr>\n      <th>47</th>\n      <td>48</td>\n      <td>A. Sattar Basheer</td>\n      <td>M</td>\n      <td>NaN</td>\n      <td>None</td>\n      <td>None</td>\n      <td>India</td>\n      <td>None</td>\n      <td>93</td>\n    </tr>\n    <tr>\n      <th>48</th>\n      <td>49</td>\n      <td>A. Schmitt</td>\n      <td>M</td>\n      <td>NaN</td>\n      <td>None</td>\n      <td>None</td>\n      <td>Switzerland</td>\n      <td>None</td>\n      <td>191</td>\n    </tr>\n    <tr>\n      <th>49</th>\n      <td>50</td>\n      <td>A. Tark Erilmez</td>\n      <td>M</td>\n      <td>NaN</td>\n      <td>None</td>\n      <td>None</td>\n      <td>Turkey</td>\n      <td>None</td>\n      <td>208</td>\n    </tr>\n  </tbody>\n</table>\n</div>"
     },
     "execution_count": 6,
     "metadata": {},
     "output_type": "execute_result"
    }
   ],
   "source": [
    "query = f\"SELECT * FROM Athlete Limit 50;\"\n",
    "Athlete = pd.read_sql_query(query, conn)\n",
    "Athlete"
   ],
   "metadata": {
    "collapsed": false,
    "pycharm": {
     "name": "#%%\n"
    }
   }
  },
  {
   "cell_type": "code",
   "execution_count": 14,
   "outputs": [
    {
     "data": {
      "text/plain": "    index             Sport\n0       1       Aeronautics\n1       2     Alpine Skiing\n2       3          Alpinism\n3       4           Archery\n4       5  Art Competitions\n..    ...               ...\n61     62        Tug-Of-War\n62     63        Volleyball\n63     64        Water Polo\n64     65     Weightlifting\n65     66         Wrestling\n\n[66 rows x 2 columns]",
      "text/html": "<div>\n<style scoped>\n    .dataframe tbody tr th:only-of-type {\n        vertical-align: middle;\n    }\n\n    .dataframe tbody tr th {\n        vertical-align: top;\n    }\n\n    .dataframe thead th {\n        text-align: right;\n    }\n</style>\n<table border=\"1\" class=\"dataframe\">\n  <thead>\n    <tr style=\"text-align: right;\">\n      <th></th>\n      <th>index</th>\n      <th>Sport</th>\n    </tr>\n  </thead>\n  <tbody>\n    <tr>\n      <th>0</th>\n      <td>1</td>\n      <td>Aeronautics</td>\n    </tr>\n    <tr>\n      <th>1</th>\n      <td>2</td>\n      <td>Alpine Skiing</td>\n    </tr>\n    <tr>\n      <th>2</th>\n      <td>3</td>\n      <td>Alpinism</td>\n    </tr>\n    <tr>\n      <th>3</th>\n      <td>4</td>\n      <td>Archery</td>\n    </tr>\n    <tr>\n      <th>4</th>\n      <td>5</td>\n      <td>Art Competitions</td>\n    </tr>\n    <tr>\n      <th>...</th>\n      <td>...</td>\n      <td>...</td>\n    </tr>\n    <tr>\n      <th>61</th>\n      <td>62</td>\n      <td>Tug-Of-War</td>\n    </tr>\n    <tr>\n      <th>62</th>\n      <td>63</td>\n      <td>Volleyball</td>\n    </tr>\n    <tr>\n      <th>63</th>\n      <td>64</td>\n      <td>Water Polo</td>\n    </tr>\n    <tr>\n      <th>64</th>\n      <td>65</td>\n      <td>Weightlifting</td>\n    </tr>\n    <tr>\n      <th>65</th>\n      <td>66</td>\n      <td>Wrestling</td>\n    </tr>\n  </tbody>\n</table>\n<p>66 rows × 2 columns</p>\n</div>"
     },
     "execution_count": 14,
     "metadata": {},
     "output_type": "execute_result"
    }
   ],
   "source": [
    "query = f\"SELECT Sport FROM {table_name} group by Sport;\"\n",
    "Sport_data = pd.read_sql_query(query, conn)\n",
    "Sport_data = Sport_data.reset_index()\n",
    "Sport_data['index'] = Sport_data['index'] + 1\n",
    "Sport_data"
   ],
   "metadata": {
    "collapsed": false,
    "pycharm": {
     "name": "#%%\n"
    }
   }
  },
  {
   "cell_type": "code",
   "execution_count": 15,
   "outputs": [],
   "source": [
    "conn.execute(\"DELETE from Sport\")\n",
    "\n",
    "# 从table_data中逐行读取数据并插入到各个表中\n",
    "for index, row in Sport_data.iterrows():\n",
    "    # 插入Sport表\n",
    "    sport_query = f\"INSERT INTO Sport VALUES (?, ?)\"\n",
    "    row = [None if pd.isna(value) or value == 'NA' else value for value in row]\n",
    "    conn.execute(sport_query, row)\n",
    "\n",
    "conn.commit()"
   ],
   "metadata": {
    "collapsed": false,
    "pycharm": {
     "name": "#%%\n"
    }
   }
  },
  {
   "cell_type": "code",
   "execution_count": 47,
   "outputs": [
    {
     "data": {
      "text/plain": "    Sport_ID             Sport\n0          1       Aeronautics\n1          2     Alpine Skiing\n2          3          Alpinism\n3          4           Archery\n4          5  Art Competitions\n..       ...               ...\n61        62        Tug-Of-War\n62        63        Volleyball\n63        64        Water Polo\n64        65     Weightlifting\n65        66         Wrestling\n\n[66 rows x 2 columns]",
      "text/html": "<div>\n<style scoped>\n    .dataframe tbody tr th:only-of-type {\n        vertical-align: middle;\n    }\n\n    .dataframe tbody tr th {\n        vertical-align: top;\n    }\n\n    .dataframe thead th {\n        text-align: right;\n    }\n</style>\n<table border=\"1\" class=\"dataframe\">\n  <thead>\n    <tr style=\"text-align: right;\">\n      <th></th>\n      <th>Sport_ID</th>\n      <th>Sport</th>\n    </tr>\n  </thead>\n  <tbody>\n    <tr>\n      <th>0</th>\n      <td>1</td>\n      <td>Aeronautics</td>\n    </tr>\n    <tr>\n      <th>1</th>\n      <td>2</td>\n      <td>Alpine Skiing</td>\n    </tr>\n    <tr>\n      <th>2</th>\n      <td>3</td>\n      <td>Alpinism</td>\n    </tr>\n    <tr>\n      <th>3</th>\n      <td>4</td>\n      <td>Archery</td>\n    </tr>\n    <tr>\n      <th>4</th>\n      <td>5</td>\n      <td>Art Competitions</td>\n    </tr>\n    <tr>\n      <th>...</th>\n      <td>...</td>\n      <td>...</td>\n    </tr>\n    <tr>\n      <th>61</th>\n      <td>62</td>\n      <td>Tug-Of-War</td>\n    </tr>\n    <tr>\n      <th>62</th>\n      <td>63</td>\n      <td>Volleyball</td>\n    </tr>\n    <tr>\n      <th>63</th>\n      <td>64</td>\n      <td>Water Polo</td>\n    </tr>\n    <tr>\n      <th>64</th>\n      <td>65</td>\n      <td>Weightlifting</td>\n    </tr>\n    <tr>\n      <th>65</th>\n      <td>66</td>\n      <td>Wrestling</td>\n    </tr>\n  </tbody>\n</table>\n<p>66 rows × 2 columns</p>\n</div>"
     },
     "execution_count": 47,
     "metadata": {},
     "output_type": "execute_result"
    }
   ],
   "source": [
    "query = f'SELECT * FROM Sport;'\n",
    "data = pd.read_sql_query(query, conn)\n",
    "data"
   ],
   "metadata": {
    "collapsed": false,
    "pycharm": {
     "name": "#%%\n"
    }
   }
  },
  {
   "cell_type": "code",
   "execution_count": 17,
   "outputs": [
    {
     "data": {
      "text/plain": "                                       Event  NOC\n0   Cross Country Skiing Men's 10 kilometres  USA\n1   Cross Country Skiing Men's 10 kilometres  KOR\n2   Cross Country Skiing Men's 10 kilometres  ITA\n3   Cross Country Skiing Men's 10 kilometres  ARG\n4   Cross Country Skiing Men's 10 kilometres  NOR\n5   Cross Country Skiing Men's 10 kilometres  MEX\n6   Cross Country Skiing Men's 10 kilometres  GRE\n7   Cross Country Skiing Men's 10 kilometres  ROU\n8   Cross Country Skiing Men's 10 kilometres  UKR\n9   Cross Country Skiing Men's 10 kilometres  SUI\n10  Cross Country Skiing Men's 10 kilometres  FRA\n11  Cross Country Skiing Men's 10 kilometres  YUG\n12  Cross Country Skiing Men's 10 kilometres  BIH\n13  Cross Country Skiing Men's 10 kilometres  SVK\n14  Cross Country Skiing Men's 10 kilometres  BUL\n15  Cross Country Skiing Men's 10 kilometres  CZE\n16  Cross Country Skiing Men's 10 kilometres  GER\n17  Cross Country Skiing Men's 10 kilometres  GBR\n18  Cross Country Skiing Men's 10 kilometres  TCH\n19  Cross Country Skiing Men's 10 kilometres  CAN\n20  Cross Country Skiing Men's 10 kilometres  DEN\n21  Cross Country Skiing Men's 10 kilometres  KEN\n22  Cross Country Skiing Men's 10 kilometres  EUN\n23  Cross Country Skiing Men's 10 kilometres  RUS\n24  Cross Country Skiing Men's 10 kilometres  ESP\n25  Cross Country Skiing Men's 10 kilometres  POL\n26  Cross Country Skiing Men's 10 kilometres  PRK\n27  Cross Country Skiing Men's 10 kilometres  MAR\n28  Cross Country Skiing Men's 10 kilometres  MGL\n29  Cross Country Skiing Men's 10 kilometres  MKD\n30  Cross Country Skiing Men's 10 kilometres  BLR\n31  Cross Country Skiing Men's 10 kilometres  JPN\n32  Cross Country Skiing Men's 10 kilometres  ISL\n33  Cross Country Skiing Men's 10 kilometres  AUS\n34  Cross Country Skiing Men's 10 kilometres  SWE\n35  Cross Country Skiing Men's 10 kilometres  AUT\n36  Cross Country Skiing Men's 10 kilometres  LAT\n37  Cross Country Skiing Men's 10 kilometres  LIE\n38  Cross Country Skiing Men's 10 kilometres  FIN\n39  Cross Country Skiing Men's 10 kilometres  KAZ\n40  Cross Country Skiing Men's 10 kilometres  EST\n41  Cross Country Skiing Men's 10 kilometres  SLO\n42  Cross Country Skiing Men's 10 kilometres  HUN\n43  Cross Country Skiing Men's 10 kilometres  TUR\n44  Cross Country Skiing Men's 10 kilometres  LTU\n45  Cross Country Skiing Men's 10 kilometres  CHN\n46  Cross Country Skiing Men's 10 kilometres  CRO\n47  Cross Country Skiing Men's 10 kilometres  FIJ\n48  Cross Country Skiing Men's 10 kilometres  SMR",
      "text/html": "<div>\n<style scoped>\n    .dataframe tbody tr th:only-of-type {\n        vertical-align: middle;\n    }\n\n    .dataframe tbody tr th {\n        vertical-align: top;\n    }\n\n    .dataframe thead th {\n        text-align: right;\n    }\n</style>\n<table border=\"1\" class=\"dataframe\">\n  <thead>\n    <tr style=\"text-align: right;\">\n      <th></th>\n      <th>Event</th>\n      <th>NOC</th>\n    </tr>\n  </thead>\n  <tbody>\n    <tr>\n      <th>0</th>\n      <td>Cross Country Skiing Men's 10 kilometres</td>\n      <td>USA</td>\n    </tr>\n    <tr>\n      <th>1</th>\n      <td>Cross Country Skiing Men's 10 kilometres</td>\n      <td>KOR</td>\n    </tr>\n    <tr>\n      <th>2</th>\n      <td>Cross Country Skiing Men's 10 kilometres</td>\n      <td>ITA</td>\n    </tr>\n    <tr>\n      <th>3</th>\n      <td>Cross Country Skiing Men's 10 kilometres</td>\n      <td>ARG</td>\n    </tr>\n    <tr>\n      <th>4</th>\n      <td>Cross Country Skiing Men's 10 kilometres</td>\n      <td>NOR</td>\n    </tr>\n    <tr>\n      <th>5</th>\n      <td>Cross Country Skiing Men's 10 kilometres</td>\n      <td>MEX</td>\n    </tr>\n    <tr>\n      <th>6</th>\n      <td>Cross Country Skiing Men's 10 kilometres</td>\n      <td>GRE</td>\n    </tr>\n    <tr>\n      <th>7</th>\n      <td>Cross Country Skiing Men's 10 kilometres</td>\n      <td>ROU</td>\n    </tr>\n    <tr>\n      <th>8</th>\n      <td>Cross Country Skiing Men's 10 kilometres</td>\n      <td>UKR</td>\n    </tr>\n    <tr>\n      <th>9</th>\n      <td>Cross Country Skiing Men's 10 kilometres</td>\n      <td>SUI</td>\n    </tr>\n    <tr>\n      <th>10</th>\n      <td>Cross Country Skiing Men's 10 kilometres</td>\n      <td>FRA</td>\n    </tr>\n    <tr>\n      <th>11</th>\n      <td>Cross Country Skiing Men's 10 kilometres</td>\n      <td>YUG</td>\n    </tr>\n    <tr>\n      <th>12</th>\n      <td>Cross Country Skiing Men's 10 kilometres</td>\n      <td>BIH</td>\n    </tr>\n    <tr>\n      <th>13</th>\n      <td>Cross Country Skiing Men's 10 kilometres</td>\n      <td>SVK</td>\n    </tr>\n    <tr>\n      <th>14</th>\n      <td>Cross Country Skiing Men's 10 kilometres</td>\n      <td>BUL</td>\n    </tr>\n    <tr>\n      <th>15</th>\n      <td>Cross Country Skiing Men's 10 kilometres</td>\n      <td>CZE</td>\n    </tr>\n    <tr>\n      <th>16</th>\n      <td>Cross Country Skiing Men's 10 kilometres</td>\n      <td>GER</td>\n    </tr>\n    <tr>\n      <th>17</th>\n      <td>Cross Country Skiing Men's 10 kilometres</td>\n      <td>GBR</td>\n    </tr>\n    <tr>\n      <th>18</th>\n      <td>Cross Country Skiing Men's 10 kilometres</td>\n      <td>TCH</td>\n    </tr>\n    <tr>\n      <th>19</th>\n      <td>Cross Country Skiing Men's 10 kilometres</td>\n      <td>CAN</td>\n    </tr>\n    <tr>\n      <th>20</th>\n      <td>Cross Country Skiing Men's 10 kilometres</td>\n      <td>DEN</td>\n    </tr>\n    <tr>\n      <th>21</th>\n      <td>Cross Country Skiing Men's 10 kilometres</td>\n      <td>KEN</td>\n    </tr>\n    <tr>\n      <th>22</th>\n      <td>Cross Country Skiing Men's 10 kilometres</td>\n      <td>EUN</td>\n    </tr>\n    <tr>\n      <th>23</th>\n      <td>Cross Country Skiing Men's 10 kilometres</td>\n      <td>RUS</td>\n    </tr>\n    <tr>\n      <th>24</th>\n      <td>Cross Country Skiing Men's 10 kilometres</td>\n      <td>ESP</td>\n    </tr>\n    <tr>\n      <th>25</th>\n      <td>Cross Country Skiing Men's 10 kilometres</td>\n      <td>POL</td>\n    </tr>\n    <tr>\n      <th>26</th>\n      <td>Cross Country Skiing Men's 10 kilometres</td>\n      <td>PRK</td>\n    </tr>\n    <tr>\n      <th>27</th>\n      <td>Cross Country Skiing Men's 10 kilometres</td>\n      <td>MAR</td>\n    </tr>\n    <tr>\n      <th>28</th>\n      <td>Cross Country Skiing Men's 10 kilometres</td>\n      <td>MGL</td>\n    </tr>\n    <tr>\n      <th>29</th>\n      <td>Cross Country Skiing Men's 10 kilometres</td>\n      <td>MKD</td>\n    </tr>\n    <tr>\n      <th>30</th>\n      <td>Cross Country Skiing Men's 10 kilometres</td>\n      <td>BLR</td>\n    </tr>\n    <tr>\n      <th>31</th>\n      <td>Cross Country Skiing Men's 10 kilometres</td>\n      <td>JPN</td>\n    </tr>\n    <tr>\n      <th>32</th>\n      <td>Cross Country Skiing Men's 10 kilometres</td>\n      <td>ISL</td>\n    </tr>\n    <tr>\n      <th>33</th>\n      <td>Cross Country Skiing Men's 10 kilometres</td>\n      <td>AUS</td>\n    </tr>\n    <tr>\n      <th>34</th>\n      <td>Cross Country Skiing Men's 10 kilometres</td>\n      <td>SWE</td>\n    </tr>\n    <tr>\n      <th>35</th>\n      <td>Cross Country Skiing Men's 10 kilometres</td>\n      <td>AUT</td>\n    </tr>\n    <tr>\n      <th>36</th>\n      <td>Cross Country Skiing Men's 10 kilometres</td>\n      <td>LAT</td>\n    </tr>\n    <tr>\n      <th>37</th>\n      <td>Cross Country Skiing Men's 10 kilometres</td>\n      <td>LIE</td>\n    </tr>\n    <tr>\n      <th>38</th>\n      <td>Cross Country Skiing Men's 10 kilometres</td>\n      <td>FIN</td>\n    </tr>\n    <tr>\n      <th>39</th>\n      <td>Cross Country Skiing Men's 10 kilometres</td>\n      <td>KAZ</td>\n    </tr>\n    <tr>\n      <th>40</th>\n      <td>Cross Country Skiing Men's 10 kilometres</td>\n      <td>EST</td>\n    </tr>\n    <tr>\n      <th>41</th>\n      <td>Cross Country Skiing Men's 10 kilometres</td>\n      <td>SLO</td>\n    </tr>\n    <tr>\n      <th>42</th>\n      <td>Cross Country Skiing Men's 10 kilometres</td>\n      <td>HUN</td>\n    </tr>\n    <tr>\n      <th>43</th>\n      <td>Cross Country Skiing Men's 10 kilometres</td>\n      <td>TUR</td>\n    </tr>\n    <tr>\n      <th>44</th>\n      <td>Cross Country Skiing Men's 10 kilometres</td>\n      <td>LTU</td>\n    </tr>\n    <tr>\n      <th>45</th>\n      <td>Cross Country Skiing Men's 10 kilometres</td>\n      <td>CHN</td>\n    </tr>\n    <tr>\n      <th>46</th>\n      <td>Cross Country Skiing Men's 10 kilometres</td>\n      <td>CRO</td>\n    </tr>\n    <tr>\n      <th>47</th>\n      <td>Cross Country Skiing Men's 10 kilometres</td>\n      <td>FIJ</td>\n    </tr>\n    <tr>\n      <th>48</th>\n      <td>Cross Country Skiing Men's 10 kilometres</td>\n      <td>SMR</td>\n    </tr>\n  </tbody>\n</table>\n</div>"
     },
     "execution_count": 17,
     "metadata": {},
     "output_type": "execute_result"
    }
   ],
   "source": [
    "query = f'SELECT DISTINCT Event,NOC FROM {table_name} WHERE Event = \"Cross Country Skiing Men\\'s 10 kilometres\";'\n",
    "data = pd.read_sql_query(query, conn)\n",
    "data"
   ],
   "metadata": {
    "collapsed": false,
    "pycharm": {
     "name": "#%%\n"
    }
   }
  },
  {
   "cell_type": "code",
   "execution_count": 50,
   "outputs": [
    {
     "data": {
      "text/plain": "     Event_ID                                              Event  Sport_ID\n0           0                        Basketball Men's Basketball         9\n1           1                       Judo Men's Extra-Lightweight        33\n2           2                            Football Men's Football        25\n3           3                        Tug-Of-War Men's Tug-Of-War        62\n4           4                   Speed Skating Women's 500 metres        54\n..        ...                                                ...       ...\n760       760    Weightlifting Men's All-Around Dumbbell Contest        65\n761       761               Archery Men's Au Chapelet, 33 metres         4\n762       762            Archery Men's Au Cordon Dore, 33 metres         4\n763       763  Archery Men's Target Archery, 28 metres, Indiv...         4\n764       764                      Aeronautics Mixed Aeronautics         1\n\n[765 rows x 3 columns]",
      "text/html": "<div>\n<style scoped>\n    .dataframe tbody tr th:only-of-type {\n        vertical-align: middle;\n    }\n\n    .dataframe tbody tr th {\n        vertical-align: top;\n    }\n\n    .dataframe thead th {\n        text-align: right;\n    }\n</style>\n<table border=\"1\" class=\"dataframe\">\n  <thead>\n    <tr style=\"text-align: right;\">\n      <th></th>\n      <th>Event_ID</th>\n      <th>Event</th>\n      <th>Sport_ID</th>\n    </tr>\n  </thead>\n  <tbody>\n    <tr>\n      <th>0</th>\n      <td>0</td>\n      <td>Basketball Men's Basketball</td>\n      <td>9</td>\n    </tr>\n    <tr>\n      <th>1</th>\n      <td>1</td>\n      <td>Judo Men's Extra-Lightweight</td>\n      <td>33</td>\n    </tr>\n    <tr>\n      <th>2</th>\n      <td>2</td>\n      <td>Football Men's Football</td>\n      <td>25</td>\n    </tr>\n    <tr>\n      <th>3</th>\n      <td>3</td>\n      <td>Tug-Of-War Men's Tug-Of-War</td>\n      <td>62</td>\n    </tr>\n    <tr>\n      <th>4</th>\n      <td>4</td>\n      <td>Speed Skating Women's 500 metres</td>\n      <td>54</td>\n    </tr>\n    <tr>\n      <th>...</th>\n      <td>...</td>\n      <td>...</td>\n      <td>...</td>\n    </tr>\n    <tr>\n      <th>760</th>\n      <td>760</td>\n      <td>Weightlifting Men's All-Around Dumbbell Contest</td>\n      <td>65</td>\n    </tr>\n    <tr>\n      <th>761</th>\n      <td>761</td>\n      <td>Archery Men's Au Chapelet, 33 metres</td>\n      <td>4</td>\n    </tr>\n    <tr>\n      <th>762</th>\n      <td>762</td>\n      <td>Archery Men's Au Cordon Dore, 33 metres</td>\n      <td>4</td>\n    </tr>\n    <tr>\n      <th>763</th>\n      <td>763</td>\n      <td>Archery Men's Target Archery, 28 metres, Indiv...</td>\n      <td>4</td>\n    </tr>\n    <tr>\n      <th>764</th>\n      <td>764</td>\n      <td>Aeronautics Mixed Aeronautics</td>\n      <td>1</td>\n    </tr>\n  </tbody>\n</table>\n<p>765 rows × 3 columns</p>\n</div>"
     },
     "execution_count": 50,
     "metadata": {},
     "output_type": "execute_result"
    }
   ],
   "source": [
    "query = f\"SELECT DISTINCT a.Event, (SELECT Sport_ID from Sport s where s.Sport = a.Sport) as Sport_ID FROM {table_name} a;\"\n",
    "Event_data = pd.read_sql_query(query, conn)\n",
    "Event_data = Event_data.reset_index()\n",
    "Event_data = Event_data.rename(columns={'index': 'Event_ID'})\n",
    "\n",
    "Event_data"
   ],
   "metadata": {
    "collapsed": false,
    "pycharm": {
     "name": "#%%\n"
    }
   }
  },
  {
   "cell_type": "code",
   "execution_count": 51,
   "outputs": [],
   "source": [
    "conn.execute(\"DELETE from Event\")\n",
    "\n",
    "# 从table_data中逐行读取数据并插入到各个表中\n",
    "for index, row in Event_data[['Event_ID', 'Event', 'Sport_ID']].iterrows():\n",
    "    # 插入Event表\n",
    "    event_query = f\"INSERT INTO Event VALUES (?, ?, ?)\"\n",
    "    row = [None if pd.isna(value) or value == 'NA' else value for value in row]\n",
    "    conn.execute(event_query, row)\n",
    "\n",
    "conn.commit()"
   ],
   "metadata": {
    "collapsed": false,
    "pycharm": {
     "name": "#%%\n"
    }
   }
  },
  {
   "cell_type": "code",
   "execution_count": 53,
   "outputs": [
    {
     "data": {
      "text/plain": "    Event_ID                                         Event_Name  Sport_ID\n0          0                        Basketball Men's Basketball         9\n1          1                       Judo Men's Extra-Lightweight        33\n2          2                            Football Men's Football        25\n3          3                        Tug-Of-War Men's Tug-Of-War        62\n4          4                   Speed Skating Women's 500 metres        54\n5          5                 Speed Skating Women's 1,000 metres        54\n6          6           Cross Country Skiing Men's 10 kilometres        18\n7          7           Cross Country Skiing Men's 50 kilometres        18\n8          8  Cross Country Skiing Men's 10/15 kilometres Pu...        18\n9          9  Cross Country Skiing Men's 4 x 10 kilometres R...        18\n10        10           Cross Country Skiing Men's 30 kilometres        18\n11        11                       Athletics Women's 100 metres         6\n12        12             Athletics Women's 4 x 100 metres Relay         6\n13        13                        Ice Hockey Men's Ice Hockey        31\n14        14                Swimming Men's 400 metres Freestyle        55\n15        15                            Badminton Men's Singles         7\n16        16                         Sailing Women's Windsurfer        47\n17        17             Biathlon Women's 7.5 kilometres Sprint        12\n18        18             Swimming Men's 200 metres Breaststroke        55\n19        19             Swimming Men's 400 metres Breaststroke        55\n20        20             Gymnastics Men's Individual All-Around        28\n21        21                   Gymnastics Men's Team All-Around        28\n22        22                    Gymnastics Men's Floor Exercise        28\n23        23                       Gymnastics Men's Horse Vault        28\n24        24                     Gymnastics Men's Parallel Bars        28\n25        25                    Gymnastics Men's Horizontal Bar        28\n26        26                             Gymnastics Men's Rings        28\n27        27                   Gymnastics Men's Pommelled Horse        28\n28        28                           Athletics Men's Shot Put         6\n29        29  Art Competitions Mixed Sculpturing, Unknown Event         5\n30        30                       Alpine Skiing Men's Downhill         2\n31        31                        Alpine Skiing Men's Super G         2\n32        32                   Alpine Skiing Men's Giant Slalom         2\n33        33                         Alpine Skiing Men's Slalom         2\n34        34                       Alpine Skiing Men's Combined         2\n35        35                          Handball Women's Handball        29\n36        36            Weightlifting Women's Super-Heavyweight        65\n37        37     Wrestling Men's Light-Heavyweight, Greco-Roman        66\n38        38                     Speed Skating Men's 500 metres        54\n39        39                   Speed Skating Men's 1,500 metres        54\n40        40      Gymnastics Men's Team All-Around, Free System        28\n41        41                               Luge Women's Singles        35\n42        42                        Water Polo Men's Water Polo        64\n43        43                Sailing Mixed Three Person Keelboat        47\n44        44                              Hockey Women's Hockey        30\n45        45             Rowing Men's Lightweight Double Sculls        44\n46        46                         Athletics Men's Pole Vault         6\n47        47                          Athletics Men's High Jump         6\n48        48                    Sailing Men's Two Person Dinghy        47\n49        49                       Athletics Men's 1,500 metres         6",
      "text/html": "<div>\n<style scoped>\n    .dataframe tbody tr th:only-of-type {\n        vertical-align: middle;\n    }\n\n    .dataframe tbody tr th {\n        vertical-align: top;\n    }\n\n    .dataframe thead th {\n        text-align: right;\n    }\n</style>\n<table border=\"1\" class=\"dataframe\">\n  <thead>\n    <tr style=\"text-align: right;\">\n      <th></th>\n      <th>Event_ID</th>\n      <th>Event_Name</th>\n      <th>Sport_ID</th>\n    </tr>\n  </thead>\n  <tbody>\n    <tr>\n      <th>0</th>\n      <td>0</td>\n      <td>Basketball Men's Basketball</td>\n      <td>9</td>\n    </tr>\n    <tr>\n      <th>1</th>\n      <td>1</td>\n      <td>Judo Men's Extra-Lightweight</td>\n      <td>33</td>\n    </tr>\n    <tr>\n      <th>2</th>\n      <td>2</td>\n      <td>Football Men's Football</td>\n      <td>25</td>\n    </tr>\n    <tr>\n      <th>3</th>\n      <td>3</td>\n      <td>Tug-Of-War Men's Tug-Of-War</td>\n      <td>62</td>\n    </tr>\n    <tr>\n      <th>4</th>\n      <td>4</td>\n      <td>Speed Skating Women's 500 metres</td>\n      <td>54</td>\n    </tr>\n    <tr>\n      <th>5</th>\n      <td>5</td>\n      <td>Speed Skating Women's 1,000 metres</td>\n      <td>54</td>\n    </tr>\n    <tr>\n      <th>6</th>\n      <td>6</td>\n      <td>Cross Country Skiing Men's 10 kilometres</td>\n      <td>18</td>\n    </tr>\n    <tr>\n      <th>7</th>\n      <td>7</td>\n      <td>Cross Country Skiing Men's 50 kilometres</td>\n      <td>18</td>\n    </tr>\n    <tr>\n      <th>8</th>\n      <td>8</td>\n      <td>Cross Country Skiing Men's 10/15 kilometres Pu...</td>\n      <td>18</td>\n    </tr>\n    <tr>\n      <th>9</th>\n      <td>9</td>\n      <td>Cross Country Skiing Men's 4 x 10 kilometres R...</td>\n      <td>18</td>\n    </tr>\n    <tr>\n      <th>10</th>\n      <td>10</td>\n      <td>Cross Country Skiing Men's 30 kilometres</td>\n      <td>18</td>\n    </tr>\n    <tr>\n      <th>11</th>\n      <td>11</td>\n      <td>Athletics Women's 100 metres</td>\n      <td>6</td>\n    </tr>\n    <tr>\n      <th>12</th>\n      <td>12</td>\n      <td>Athletics Women's 4 x 100 metres Relay</td>\n      <td>6</td>\n    </tr>\n    <tr>\n      <th>13</th>\n      <td>13</td>\n      <td>Ice Hockey Men's Ice Hockey</td>\n      <td>31</td>\n    </tr>\n    <tr>\n      <th>14</th>\n      <td>14</td>\n      <td>Swimming Men's 400 metres Freestyle</td>\n      <td>55</td>\n    </tr>\n    <tr>\n      <th>15</th>\n      <td>15</td>\n      <td>Badminton Men's Singles</td>\n      <td>7</td>\n    </tr>\n    <tr>\n      <th>16</th>\n      <td>16</td>\n      <td>Sailing Women's Windsurfer</td>\n      <td>47</td>\n    </tr>\n    <tr>\n      <th>17</th>\n      <td>17</td>\n      <td>Biathlon Women's 7.5 kilometres Sprint</td>\n      <td>12</td>\n    </tr>\n    <tr>\n      <th>18</th>\n      <td>18</td>\n      <td>Swimming Men's 200 metres Breaststroke</td>\n      <td>55</td>\n    </tr>\n    <tr>\n      <th>19</th>\n      <td>19</td>\n      <td>Swimming Men's 400 metres Breaststroke</td>\n      <td>55</td>\n    </tr>\n    <tr>\n      <th>20</th>\n      <td>20</td>\n      <td>Gymnastics Men's Individual All-Around</td>\n      <td>28</td>\n    </tr>\n    <tr>\n      <th>21</th>\n      <td>21</td>\n      <td>Gymnastics Men's Team All-Around</td>\n      <td>28</td>\n    </tr>\n    <tr>\n      <th>22</th>\n      <td>22</td>\n      <td>Gymnastics Men's Floor Exercise</td>\n      <td>28</td>\n    </tr>\n    <tr>\n      <th>23</th>\n      <td>23</td>\n      <td>Gymnastics Men's Horse Vault</td>\n      <td>28</td>\n    </tr>\n    <tr>\n      <th>24</th>\n      <td>24</td>\n      <td>Gymnastics Men's Parallel Bars</td>\n      <td>28</td>\n    </tr>\n    <tr>\n      <th>25</th>\n      <td>25</td>\n      <td>Gymnastics Men's Horizontal Bar</td>\n      <td>28</td>\n    </tr>\n    <tr>\n      <th>26</th>\n      <td>26</td>\n      <td>Gymnastics Men's Rings</td>\n      <td>28</td>\n    </tr>\n    <tr>\n      <th>27</th>\n      <td>27</td>\n      <td>Gymnastics Men's Pommelled Horse</td>\n      <td>28</td>\n    </tr>\n    <tr>\n      <th>28</th>\n      <td>28</td>\n      <td>Athletics Men's Shot Put</td>\n      <td>6</td>\n    </tr>\n    <tr>\n      <th>29</th>\n      <td>29</td>\n      <td>Art Competitions Mixed Sculpturing, Unknown Event</td>\n      <td>5</td>\n    </tr>\n    <tr>\n      <th>30</th>\n      <td>30</td>\n      <td>Alpine Skiing Men's Downhill</td>\n      <td>2</td>\n    </tr>\n    <tr>\n      <th>31</th>\n      <td>31</td>\n      <td>Alpine Skiing Men's Super G</td>\n      <td>2</td>\n    </tr>\n    <tr>\n      <th>32</th>\n      <td>32</td>\n      <td>Alpine Skiing Men's Giant Slalom</td>\n      <td>2</td>\n    </tr>\n    <tr>\n      <th>33</th>\n      <td>33</td>\n      <td>Alpine Skiing Men's Slalom</td>\n      <td>2</td>\n    </tr>\n    <tr>\n      <th>34</th>\n      <td>34</td>\n      <td>Alpine Skiing Men's Combined</td>\n      <td>2</td>\n    </tr>\n    <tr>\n      <th>35</th>\n      <td>35</td>\n      <td>Handball Women's Handball</td>\n      <td>29</td>\n    </tr>\n    <tr>\n      <th>36</th>\n      <td>36</td>\n      <td>Weightlifting Women's Super-Heavyweight</td>\n      <td>65</td>\n    </tr>\n    <tr>\n      <th>37</th>\n      <td>37</td>\n      <td>Wrestling Men's Light-Heavyweight, Greco-Roman</td>\n      <td>66</td>\n    </tr>\n    <tr>\n      <th>38</th>\n      <td>38</td>\n      <td>Speed Skating Men's 500 metres</td>\n      <td>54</td>\n    </tr>\n    <tr>\n      <th>39</th>\n      <td>39</td>\n      <td>Speed Skating Men's 1,500 metres</td>\n      <td>54</td>\n    </tr>\n    <tr>\n      <th>40</th>\n      <td>40</td>\n      <td>Gymnastics Men's Team All-Around, Free System</td>\n      <td>28</td>\n    </tr>\n    <tr>\n      <th>41</th>\n      <td>41</td>\n      <td>Luge Women's Singles</td>\n      <td>35</td>\n    </tr>\n    <tr>\n      <th>42</th>\n      <td>42</td>\n      <td>Water Polo Men's Water Polo</td>\n      <td>64</td>\n    </tr>\n    <tr>\n      <th>43</th>\n      <td>43</td>\n      <td>Sailing Mixed Three Person Keelboat</td>\n      <td>47</td>\n    </tr>\n    <tr>\n      <th>44</th>\n      <td>44</td>\n      <td>Hockey Women's Hockey</td>\n      <td>30</td>\n    </tr>\n    <tr>\n      <th>45</th>\n      <td>45</td>\n      <td>Rowing Men's Lightweight Double Sculls</td>\n      <td>44</td>\n    </tr>\n    <tr>\n      <th>46</th>\n      <td>46</td>\n      <td>Athletics Men's Pole Vault</td>\n      <td>6</td>\n    </tr>\n    <tr>\n      <th>47</th>\n      <td>47</td>\n      <td>Athletics Men's High Jump</td>\n      <td>6</td>\n    </tr>\n    <tr>\n      <th>48</th>\n      <td>48</td>\n      <td>Sailing Men's Two Person Dinghy</td>\n      <td>47</td>\n    </tr>\n    <tr>\n      <th>49</th>\n      <td>49</td>\n      <td>Athletics Men's 1,500 metres</td>\n      <td>6</td>\n    </tr>\n  </tbody>\n</table>\n</div>"
     },
     "execution_count": 53,
     "metadata": {},
     "output_type": "execute_result"
    }
   ],
   "source": [
    "query = f'SELECT * FROM Event;'\n",
    "data = pd.read_sql_query(query, conn)\n",
    "data.head(50)"
   ],
   "metadata": {
    "collapsed": false,
    "pycharm": {
     "name": "#%%\n"
    }
   }
  },
  {
   "cell_type": "code",
   "execution_count": 21,
   "outputs": [
    {
     "data": {
      "text/plain": "    Game_ID  Year  Season                    City        Games\n0         0  1896  Summer                  Athina  1896 Summer\n1         1  1900  Summer                   Paris  1900 Summer\n2         2  1904  Summer               St. Louis  1904 Summer\n3         3  1906  Summer                  Athina  1906 Summer\n4         4  1908  Summer                  London  1908 Summer\n5         5  1912  Summer               Stockholm  1912 Summer\n6         6  1920  Summer               Antwerpen  1920 Summer\n7         7  1924  Summer                   Paris  1924 Summer\n8         8  1924  Winter                Chamonix  1924 Winter\n9         9  1928  Summer               Amsterdam  1928 Summer\n10       10  1928  Winter            Sankt Moritz  1928 Winter\n11       11  1932  Summer             Los Angeles  1932 Summer\n12       12  1932  Winter             Lake Placid  1932 Winter\n13       13  1936  Summer                  Berlin  1936 Summer\n14       14  1936  Winter  Garmisch-Partenkirchen  1936 Winter\n15       15  1948  Summer                  London  1948 Summer\n16       16  1948  Winter            Sankt Moritz  1948 Winter\n17       17  1952  Summer                Helsinki  1952 Summer\n18       18  1952  Winter                    Oslo  1952 Winter\n19       19  1956  Summer               Melbourne  1956 Summer\n20       20  1956  Summer               Stockholm  1956 Summer\n21       21  1956  Winter       Cortina d'Ampezzo  1956 Winter\n22       22  1960  Summer                    Roma  1960 Summer\n23       23  1960  Winter            Squaw Valley  1960 Winter\n24       24  1964  Summer                   Tokyo  1964 Summer\n25       25  1964  Winter               Innsbruck  1964 Winter\n26       26  1968  Summer             Mexico City  1968 Summer\n27       27  1968  Winter                Grenoble  1968 Winter\n28       28  1972  Summer                  Munich  1972 Summer\n29       29  1972  Winter                 Sapporo  1972 Winter\n30       30  1976  Summer                Montreal  1976 Summer\n31       31  1976  Winter               Innsbruck  1976 Winter\n32       32  1980  Summer                  Moskva  1980 Summer\n33       33  1980  Winter             Lake Placid  1980 Winter\n34       34  1984  Summer             Los Angeles  1984 Summer\n35       35  1984  Winter                Sarajevo  1984 Winter\n36       36  1988  Summer                   Seoul  1988 Summer\n37       37  1988  Winter                 Calgary  1988 Winter\n38       38  1992  Summer               Barcelona  1992 Summer\n39       39  1992  Winter             Albertville  1992 Winter\n40       40  1994  Winter             Lillehammer  1994 Winter\n41       41  1996  Summer                 Atlanta  1996 Summer\n42       42  1998  Winter                  Nagano  1998 Winter\n43       43  2000  Summer                  Sydney  2000 Summer\n44       44  2002  Winter          Salt Lake City  2002 Winter\n45       45  2004  Summer                  Athina  2004 Summer\n46       46  2006  Winter                  Torino  2006 Winter\n47       47  2008  Summer                 Beijing  2008 Summer\n48       48  2010  Winter               Vancouver  2010 Winter\n49       49  2012  Summer                  London  2012 Summer\n50       50  2014  Winter                   Sochi  2014 Winter\n51       51  2016  Summer          Rio de Janeiro  2016 Summer",
      "text/html": "<div>\n<style scoped>\n    .dataframe tbody tr th:only-of-type {\n        vertical-align: middle;\n    }\n\n    .dataframe tbody tr th {\n        vertical-align: top;\n    }\n\n    .dataframe thead th {\n        text-align: right;\n    }\n</style>\n<table border=\"1\" class=\"dataframe\">\n  <thead>\n    <tr style=\"text-align: right;\">\n      <th></th>\n      <th>Game_ID</th>\n      <th>Year</th>\n      <th>Season</th>\n      <th>City</th>\n      <th>Games</th>\n    </tr>\n  </thead>\n  <tbody>\n    <tr>\n      <th>0</th>\n      <td>0</td>\n      <td>1896</td>\n      <td>Summer</td>\n      <td>Athina</td>\n      <td>1896 Summer</td>\n    </tr>\n    <tr>\n      <th>1</th>\n      <td>1</td>\n      <td>1900</td>\n      <td>Summer</td>\n      <td>Paris</td>\n      <td>1900 Summer</td>\n    </tr>\n    <tr>\n      <th>2</th>\n      <td>2</td>\n      <td>1904</td>\n      <td>Summer</td>\n      <td>St. Louis</td>\n      <td>1904 Summer</td>\n    </tr>\n    <tr>\n      <th>3</th>\n      <td>3</td>\n      <td>1906</td>\n      <td>Summer</td>\n      <td>Athina</td>\n      <td>1906 Summer</td>\n    </tr>\n    <tr>\n      <th>4</th>\n      <td>4</td>\n      <td>1908</td>\n      <td>Summer</td>\n      <td>London</td>\n      <td>1908 Summer</td>\n    </tr>\n    <tr>\n      <th>5</th>\n      <td>5</td>\n      <td>1912</td>\n      <td>Summer</td>\n      <td>Stockholm</td>\n      <td>1912 Summer</td>\n    </tr>\n    <tr>\n      <th>6</th>\n      <td>6</td>\n      <td>1920</td>\n      <td>Summer</td>\n      <td>Antwerpen</td>\n      <td>1920 Summer</td>\n    </tr>\n    <tr>\n      <th>7</th>\n      <td>7</td>\n      <td>1924</td>\n      <td>Summer</td>\n      <td>Paris</td>\n      <td>1924 Summer</td>\n    </tr>\n    <tr>\n      <th>8</th>\n      <td>8</td>\n      <td>1924</td>\n      <td>Winter</td>\n      <td>Chamonix</td>\n      <td>1924 Winter</td>\n    </tr>\n    <tr>\n      <th>9</th>\n      <td>9</td>\n      <td>1928</td>\n      <td>Summer</td>\n      <td>Amsterdam</td>\n      <td>1928 Summer</td>\n    </tr>\n    <tr>\n      <th>10</th>\n      <td>10</td>\n      <td>1928</td>\n      <td>Winter</td>\n      <td>Sankt Moritz</td>\n      <td>1928 Winter</td>\n    </tr>\n    <tr>\n      <th>11</th>\n      <td>11</td>\n      <td>1932</td>\n      <td>Summer</td>\n      <td>Los Angeles</td>\n      <td>1932 Summer</td>\n    </tr>\n    <tr>\n      <th>12</th>\n      <td>12</td>\n      <td>1932</td>\n      <td>Winter</td>\n      <td>Lake Placid</td>\n      <td>1932 Winter</td>\n    </tr>\n    <tr>\n      <th>13</th>\n      <td>13</td>\n      <td>1936</td>\n      <td>Summer</td>\n      <td>Berlin</td>\n      <td>1936 Summer</td>\n    </tr>\n    <tr>\n      <th>14</th>\n      <td>14</td>\n      <td>1936</td>\n      <td>Winter</td>\n      <td>Garmisch-Partenkirchen</td>\n      <td>1936 Winter</td>\n    </tr>\n    <tr>\n      <th>15</th>\n      <td>15</td>\n      <td>1948</td>\n      <td>Summer</td>\n      <td>London</td>\n      <td>1948 Summer</td>\n    </tr>\n    <tr>\n      <th>16</th>\n      <td>16</td>\n      <td>1948</td>\n      <td>Winter</td>\n      <td>Sankt Moritz</td>\n      <td>1948 Winter</td>\n    </tr>\n    <tr>\n      <th>17</th>\n      <td>17</td>\n      <td>1952</td>\n      <td>Summer</td>\n      <td>Helsinki</td>\n      <td>1952 Summer</td>\n    </tr>\n    <tr>\n      <th>18</th>\n      <td>18</td>\n      <td>1952</td>\n      <td>Winter</td>\n      <td>Oslo</td>\n      <td>1952 Winter</td>\n    </tr>\n    <tr>\n      <th>19</th>\n      <td>19</td>\n      <td>1956</td>\n      <td>Summer</td>\n      <td>Melbourne</td>\n      <td>1956 Summer</td>\n    </tr>\n    <tr>\n      <th>20</th>\n      <td>20</td>\n      <td>1956</td>\n      <td>Summer</td>\n      <td>Stockholm</td>\n      <td>1956 Summer</td>\n    </tr>\n    <tr>\n      <th>21</th>\n      <td>21</td>\n      <td>1956</td>\n      <td>Winter</td>\n      <td>Cortina d'Ampezzo</td>\n      <td>1956 Winter</td>\n    </tr>\n    <tr>\n      <th>22</th>\n      <td>22</td>\n      <td>1960</td>\n      <td>Summer</td>\n      <td>Roma</td>\n      <td>1960 Summer</td>\n    </tr>\n    <tr>\n      <th>23</th>\n      <td>23</td>\n      <td>1960</td>\n      <td>Winter</td>\n      <td>Squaw Valley</td>\n      <td>1960 Winter</td>\n    </tr>\n    <tr>\n      <th>24</th>\n      <td>24</td>\n      <td>1964</td>\n      <td>Summer</td>\n      <td>Tokyo</td>\n      <td>1964 Summer</td>\n    </tr>\n    <tr>\n      <th>25</th>\n      <td>25</td>\n      <td>1964</td>\n      <td>Winter</td>\n      <td>Innsbruck</td>\n      <td>1964 Winter</td>\n    </tr>\n    <tr>\n      <th>26</th>\n      <td>26</td>\n      <td>1968</td>\n      <td>Summer</td>\n      <td>Mexico City</td>\n      <td>1968 Summer</td>\n    </tr>\n    <tr>\n      <th>27</th>\n      <td>27</td>\n      <td>1968</td>\n      <td>Winter</td>\n      <td>Grenoble</td>\n      <td>1968 Winter</td>\n    </tr>\n    <tr>\n      <th>28</th>\n      <td>28</td>\n      <td>1972</td>\n      <td>Summer</td>\n      <td>Munich</td>\n      <td>1972 Summer</td>\n    </tr>\n    <tr>\n      <th>29</th>\n      <td>29</td>\n      <td>1972</td>\n      <td>Winter</td>\n      <td>Sapporo</td>\n      <td>1972 Winter</td>\n    </tr>\n    <tr>\n      <th>30</th>\n      <td>30</td>\n      <td>1976</td>\n      <td>Summer</td>\n      <td>Montreal</td>\n      <td>1976 Summer</td>\n    </tr>\n    <tr>\n      <th>31</th>\n      <td>31</td>\n      <td>1976</td>\n      <td>Winter</td>\n      <td>Innsbruck</td>\n      <td>1976 Winter</td>\n    </tr>\n    <tr>\n      <th>32</th>\n      <td>32</td>\n      <td>1980</td>\n      <td>Summer</td>\n      <td>Moskva</td>\n      <td>1980 Summer</td>\n    </tr>\n    <tr>\n      <th>33</th>\n      <td>33</td>\n      <td>1980</td>\n      <td>Winter</td>\n      <td>Lake Placid</td>\n      <td>1980 Winter</td>\n    </tr>\n    <tr>\n      <th>34</th>\n      <td>34</td>\n      <td>1984</td>\n      <td>Summer</td>\n      <td>Los Angeles</td>\n      <td>1984 Summer</td>\n    </tr>\n    <tr>\n      <th>35</th>\n      <td>35</td>\n      <td>1984</td>\n      <td>Winter</td>\n      <td>Sarajevo</td>\n      <td>1984 Winter</td>\n    </tr>\n    <tr>\n      <th>36</th>\n      <td>36</td>\n      <td>1988</td>\n      <td>Summer</td>\n      <td>Seoul</td>\n      <td>1988 Summer</td>\n    </tr>\n    <tr>\n      <th>37</th>\n      <td>37</td>\n      <td>1988</td>\n      <td>Winter</td>\n      <td>Calgary</td>\n      <td>1988 Winter</td>\n    </tr>\n    <tr>\n      <th>38</th>\n      <td>38</td>\n      <td>1992</td>\n      <td>Summer</td>\n      <td>Barcelona</td>\n      <td>1992 Summer</td>\n    </tr>\n    <tr>\n      <th>39</th>\n      <td>39</td>\n      <td>1992</td>\n      <td>Winter</td>\n      <td>Albertville</td>\n      <td>1992 Winter</td>\n    </tr>\n    <tr>\n      <th>40</th>\n      <td>40</td>\n      <td>1994</td>\n      <td>Winter</td>\n      <td>Lillehammer</td>\n      <td>1994 Winter</td>\n    </tr>\n    <tr>\n      <th>41</th>\n      <td>41</td>\n      <td>1996</td>\n      <td>Summer</td>\n      <td>Atlanta</td>\n      <td>1996 Summer</td>\n    </tr>\n    <tr>\n      <th>42</th>\n      <td>42</td>\n      <td>1998</td>\n      <td>Winter</td>\n      <td>Nagano</td>\n      <td>1998 Winter</td>\n    </tr>\n    <tr>\n      <th>43</th>\n      <td>43</td>\n      <td>2000</td>\n      <td>Summer</td>\n      <td>Sydney</td>\n      <td>2000 Summer</td>\n    </tr>\n    <tr>\n      <th>44</th>\n      <td>44</td>\n      <td>2002</td>\n      <td>Winter</td>\n      <td>Salt Lake City</td>\n      <td>2002 Winter</td>\n    </tr>\n    <tr>\n      <th>45</th>\n      <td>45</td>\n      <td>2004</td>\n      <td>Summer</td>\n      <td>Athina</td>\n      <td>2004 Summer</td>\n    </tr>\n    <tr>\n      <th>46</th>\n      <td>46</td>\n      <td>2006</td>\n      <td>Winter</td>\n      <td>Torino</td>\n      <td>2006 Winter</td>\n    </tr>\n    <tr>\n      <th>47</th>\n      <td>47</td>\n      <td>2008</td>\n      <td>Summer</td>\n      <td>Beijing</td>\n      <td>2008 Summer</td>\n    </tr>\n    <tr>\n      <th>48</th>\n      <td>48</td>\n      <td>2010</td>\n      <td>Winter</td>\n      <td>Vancouver</td>\n      <td>2010 Winter</td>\n    </tr>\n    <tr>\n      <th>49</th>\n      <td>49</td>\n      <td>2012</td>\n      <td>Summer</td>\n      <td>London</td>\n      <td>2012 Summer</td>\n    </tr>\n    <tr>\n      <th>50</th>\n      <td>50</td>\n      <td>2014</td>\n      <td>Winter</td>\n      <td>Sochi</td>\n      <td>2014 Winter</td>\n    </tr>\n    <tr>\n      <th>51</th>\n      <td>51</td>\n      <td>2016</td>\n      <td>Summer</td>\n      <td>Rio de Janeiro</td>\n      <td>2016 Summer</td>\n    </tr>\n  </tbody>\n</table>\n</div>"
     },
     "execution_count": 21,
     "metadata": {},
     "output_type": "execute_result"
    }
   ],
   "source": [
    "# 执行查询并将结果存储为DataFrame\n",
    "query = f\"SELECT  Year, Season, City, Games FROM {table_name} GROUP BY Year, Season, City, Games;\"\n",
    "game_data = pd.read_sql_query(query, conn)\n",
    "game_data = game_data.reset_index()\n",
    "game_data = game_data.rename(columns={'index': 'Game_ID'})\n",
    "game_data\n"
   ],
   "metadata": {
    "collapsed": false,
    "pycharm": {
     "name": "#%%\n"
    }
   }
  },
  {
   "cell_type": "code",
   "execution_count": 22,
   "outputs": [],
   "source": [
    "conn.execute(\"DELETE from Game\")\n",
    "\n",
    "# 从table_data中逐行读取数据并插入到各个表中\n",
    "for index, row in game_data[['Game_ID', 'Games', 'Year', 'Season', 'City']].iterrows():\n",
    "    # 插入Event表\n",
    "    game_query = f\"INSERT INTO Game VALUES (?, ?, ?, ?, ?)\"\n",
    "    row = [None if pd.isna(value) or value == 'NA' else value for value in row]\n",
    "    conn.execute(game_query, row)\n",
    "conn.commit()"
   ],
   "metadata": {
    "collapsed": false,
    "pycharm": {
     "name": "#%%\n"
    }
   }
  },
  {
   "cell_type": "code",
   "execution_count": 23,
   "outputs": [
    {
     "data": {
      "text/plain": "     Event_ID                                         Event_Name  Sport_ID\n0           0                        Basketball Men's Basketball         1\n1           1                       Judo Men's Extra-Lightweight         1\n2           2                            Football Men's Football         1\n3           3                        Tug-Of-War Men's Tug-Of-War         1\n4           4                   Speed Skating Women's 500 metres         1\n..        ...                                                ...       ...\n760       760    Weightlifting Men's All-Around Dumbbell Contest         1\n761       761               Archery Men's Au Chapelet, 33 metres         1\n762       762            Archery Men's Au Cordon Dore, 33 metres         1\n763       763  Archery Men's Target Archery, 28 metres, Indiv...         1\n764       764                      Aeronautics Mixed Aeronautics         1\n\n[765 rows x 3 columns]",
      "text/html": "<div>\n<style scoped>\n    .dataframe tbody tr th:only-of-type {\n        vertical-align: middle;\n    }\n\n    .dataframe tbody tr th {\n        vertical-align: top;\n    }\n\n    .dataframe thead th {\n        text-align: right;\n    }\n</style>\n<table border=\"1\" class=\"dataframe\">\n  <thead>\n    <tr style=\"text-align: right;\">\n      <th></th>\n      <th>Event_ID</th>\n      <th>Event_Name</th>\n      <th>Sport_ID</th>\n    </tr>\n  </thead>\n  <tbody>\n    <tr>\n      <th>0</th>\n      <td>0</td>\n      <td>Basketball Men's Basketball</td>\n      <td>1</td>\n    </tr>\n    <tr>\n      <th>1</th>\n      <td>1</td>\n      <td>Judo Men's Extra-Lightweight</td>\n      <td>1</td>\n    </tr>\n    <tr>\n      <th>2</th>\n      <td>2</td>\n      <td>Football Men's Football</td>\n      <td>1</td>\n    </tr>\n    <tr>\n      <th>3</th>\n      <td>3</td>\n      <td>Tug-Of-War Men's Tug-Of-War</td>\n      <td>1</td>\n    </tr>\n    <tr>\n      <th>4</th>\n      <td>4</td>\n      <td>Speed Skating Women's 500 metres</td>\n      <td>1</td>\n    </tr>\n    <tr>\n      <th>...</th>\n      <td>...</td>\n      <td>...</td>\n      <td>...</td>\n    </tr>\n    <tr>\n      <th>760</th>\n      <td>760</td>\n      <td>Weightlifting Men's All-Around Dumbbell Contest</td>\n      <td>1</td>\n    </tr>\n    <tr>\n      <th>761</th>\n      <td>761</td>\n      <td>Archery Men's Au Chapelet, 33 metres</td>\n      <td>1</td>\n    </tr>\n    <tr>\n      <th>762</th>\n      <td>762</td>\n      <td>Archery Men's Au Cordon Dore, 33 metres</td>\n      <td>1</td>\n    </tr>\n    <tr>\n      <th>763</th>\n      <td>763</td>\n      <td>Archery Men's Target Archery, 28 metres, Indiv...</td>\n      <td>1</td>\n    </tr>\n    <tr>\n      <th>764</th>\n      <td>764</td>\n      <td>Aeronautics Mixed Aeronautics</td>\n      <td>1</td>\n    </tr>\n  </tbody>\n</table>\n<p>765 rows × 3 columns</p>\n</div>"
     },
     "execution_count": 23,
     "metadata": {},
     "output_type": "execute_result"
    }
   ],
   "source": [
    "query = f\"SELECT * from Event;\"\n",
    "data = pd.read_sql_query(query, conn)\n",
    "\n",
    "data"
   ],
   "metadata": {
    "collapsed": false,
    "pycharm": {
     "name": "#%%\n"
    }
   }
  },
  {
   "cell_type": "code",
   "execution_count": 24,
   "outputs": [
    {
     "data": {
      "text/plain": "      index  Event_ID  Game_ID\n0         1         0       38\n1         2         1       49\n2         3         2        6\n3         4         3        1\n4         5         4       37\n...     ...       ...      ...\n6187   6188       763        6\n6188   6189       478        3\n6189   6190       692       11\n6190   6191       764       13\n6191   6192       688        6\n\n[6192 rows x 3 columns]",
      "text/html": "<div>\n<style scoped>\n    .dataframe tbody tr th:only-of-type {\n        vertical-align: middle;\n    }\n\n    .dataframe tbody tr th {\n        vertical-align: top;\n    }\n\n    .dataframe thead th {\n        text-align: right;\n    }\n</style>\n<table border=\"1\" class=\"dataframe\">\n  <thead>\n    <tr style=\"text-align: right;\">\n      <th></th>\n      <th>index</th>\n      <th>Event_ID</th>\n      <th>Game_ID</th>\n    </tr>\n  </thead>\n  <tbody>\n    <tr>\n      <th>0</th>\n      <td>1</td>\n      <td>0</td>\n      <td>38</td>\n    </tr>\n    <tr>\n      <th>1</th>\n      <td>2</td>\n      <td>1</td>\n      <td>49</td>\n    </tr>\n    <tr>\n      <th>2</th>\n      <td>3</td>\n      <td>2</td>\n      <td>6</td>\n    </tr>\n    <tr>\n      <th>3</th>\n      <td>4</td>\n      <td>3</td>\n      <td>1</td>\n    </tr>\n    <tr>\n      <th>4</th>\n      <td>5</td>\n      <td>4</td>\n      <td>37</td>\n    </tr>\n    <tr>\n      <th>...</th>\n      <td>...</td>\n      <td>...</td>\n      <td>...</td>\n    </tr>\n    <tr>\n      <th>6187</th>\n      <td>6188</td>\n      <td>763</td>\n      <td>6</td>\n    </tr>\n    <tr>\n      <th>6188</th>\n      <td>6189</td>\n      <td>478</td>\n      <td>3</td>\n    </tr>\n    <tr>\n      <th>6189</th>\n      <td>6190</td>\n      <td>692</td>\n      <td>11</td>\n    </tr>\n    <tr>\n      <th>6190</th>\n      <td>6191</td>\n      <td>764</td>\n      <td>13</td>\n    </tr>\n    <tr>\n      <th>6191</th>\n      <td>6192</td>\n      <td>688</td>\n      <td>6</td>\n    </tr>\n  </tbody>\n</table>\n<p>6192 rows × 3 columns</p>\n</div>"
     },
     "execution_count": 24,
     "metadata": {},
     "output_type": "execute_result"
    }
   ],
   "source": [
    "query = f\"SELECT DISTINCT (SELECT Event_ID FROM Event e where e.Event_Name = a.Event) as Event_ID, (SELECT Game_ID FROM Game g where g.Games = a.Games) as Game_ID FROM {table_name} a;\"\n",
    "Events_Of_Game = pd.read_sql_query(query, conn)\n",
    "Events_Of_Game = Events_Of_Game.reset_index()\n",
    "Events_Of_Game['index'] = Events_Of_Game['index'] + 1\n",
    "\n",
    "Events_Of_Game"
   ],
   "metadata": {
    "collapsed": false,
    "pycharm": {
     "name": "#%%\n"
    }
   }
  },
  {
   "cell_type": "code",
   "execution_count": 27,
   "outputs": [],
   "source": [
    "conn.execute(\"DELETE from Events_Of_Game\")\n",
    "\n",
    "# 从table_data中逐行读取数据并插入到各个表中\n",
    "for index, row in Events_Of_Game.iterrows():\n",
    "    # 插入Events_Of_Country表\n",
    "    query = f\"INSERT INTO Events_Of_Game VALUES (?, ?, ?)\"\n",
    "    row = [None if pd.isna(value) or value == 'NA' else value for value in row]\n",
    "    conn.execute(query, row)\n",
    "conn.commit()"
   ],
   "metadata": {
    "collapsed": false,
    "pycharm": {
     "name": "#%%\n"
    }
   }
  },
  {
   "cell_type": "code",
   "execution_count": 29,
   "outputs": [
    {
     "data": {
      "text/plain": "        ID  Game_ID  Event_ID\n0        1        0        38\n1        2        1        49\n2        3        2         6\n3        4        3         1\n4        5        4        37\n...    ...      ...       ...\n6187  6188      763         6\n6188  6189      478         3\n6189  6190      692        11\n6190  6191      764        13\n6191  6192      688         6\n\n[6192 rows x 3 columns]",
      "text/html": "<div>\n<style scoped>\n    .dataframe tbody tr th:only-of-type {\n        vertical-align: middle;\n    }\n\n    .dataframe tbody tr th {\n        vertical-align: top;\n    }\n\n    .dataframe thead th {\n        text-align: right;\n    }\n</style>\n<table border=\"1\" class=\"dataframe\">\n  <thead>\n    <tr style=\"text-align: right;\">\n      <th></th>\n      <th>ID</th>\n      <th>Game_ID</th>\n      <th>Event_ID</th>\n    </tr>\n  </thead>\n  <tbody>\n    <tr>\n      <th>0</th>\n      <td>1</td>\n      <td>0</td>\n      <td>38</td>\n    </tr>\n    <tr>\n      <th>1</th>\n      <td>2</td>\n      <td>1</td>\n      <td>49</td>\n    </tr>\n    <tr>\n      <th>2</th>\n      <td>3</td>\n      <td>2</td>\n      <td>6</td>\n    </tr>\n    <tr>\n      <th>3</th>\n      <td>4</td>\n      <td>3</td>\n      <td>1</td>\n    </tr>\n    <tr>\n      <th>4</th>\n      <td>5</td>\n      <td>4</td>\n      <td>37</td>\n    </tr>\n    <tr>\n      <th>...</th>\n      <td>...</td>\n      <td>...</td>\n      <td>...</td>\n    </tr>\n    <tr>\n      <th>6187</th>\n      <td>6188</td>\n      <td>763</td>\n      <td>6</td>\n    </tr>\n    <tr>\n      <th>6188</th>\n      <td>6189</td>\n      <td>478</td>\n      <td>3</td>\n    </tr>\n    <tr>\n      <th>6189</th>\n      <td>6190</td>\n      <td>692</td>\n      <td>11</td>\n    </tr>\n    <tr>\n      <th>6190</th>\n      <td>6191</td>\n      <td>764</td>\n      <td>13</td>\n    </tr>\n    <tr>\n      <th>6191</th>\n      <td>6192</td>\n      <td>688</td>\n      <td>6</td>\n    </tr>\n  </tbody>\n</table>\n<p>6192 rows × 3 columns</p>\n</div>"
     },
     "execution_count": 29,
     "metadata": {},
     "output_type": "execute_result"
    }
   ],
   "source": [
    "query = f\"SELECT * from Events_Of_Game;\"\n",
    "data = pd.read_sql_query(query, conn)\n",
    "\n",
    "data"
   ],
   "metadata": {
    "collapsed": false,
    "pycharm": {
     "name": "#%%\n"
    }
   }
  },
  {
   "cell_type": "code",
   "execution_count": 30,
   "outputs": [
    {
     "data": {
      "text/plain": "       index  Event_ID  Country_ID\n0          1         0          42\n1          2         1          42\n2          3         2          56\n3          4         3          56\n4          5         4         146\n...      ...       ...         ...\n28332  28333        11         127\n28333  28334       641         182\n28334  28335       236         182\n28335  28336       144          93\n28336  28337       609          82\n\n[28337 rows x 3 columns]",
      "text/html": "<div>\n<style scoped>\n    .dataframe tbody tr th:only-of-type {\n        vertical-align: middle;\n    }\n\n    .dataframe tbody tr th {\n        vertical-align: top;\n    }\n\n    .dataframe thead th {\n        text-align: right;\n    }\n</style>\n<table border=\"1\" class=\"dataframe\">\n  <thead>\n    <tr style=\"text-align: right;\">\n      <th></th>\n      <th>index</th>\n      <th>Event_ID</th>\n      <th>Country_ID</th>\n    </tr>\n  </thead>\n  <tbody>\n    <tr>\n      <th>0</th>\n      <td>1</td>\n      <td>0</td>\n      <td>42</td>\n    </tr>\n    <tr>\n      <th>1</th>\n      <td>2</td>\n      <td>1</td>\n      <td>42</td>\n    </tr>\n    <tr>\n      <th>2</th>\n      <td>3</td>\n      <td>2</td>\n      <td>56</td>\n    </tr>\n    <tr>\n      <th>3</th>\n      <td>4</td>\n      <td>3</td>\n      <td>56</td>\n    </tr>\n    <tr>\n      <th>4</th>\n      <td>5</td>\n      <td>4</td>\n      <td>146</td>\n    </tr>\n    <tr>\n      <th>...</th>\n      <td>...</td>\n      <td>...</td>\n      <td>...</td>\n    </tr>\n    <tr>\n      <th>28332</th>\n      <td>28333</td>\n      <td>11</td>\n      <td>127</td>\n    </tr>\n    <tr>\n      <th>28333</th>\n      <td>28334</td>\n      <td>641</td>\n      <td>182</td>\n    </tr>\n    <tr>\n      <th>28334</th>\n      <td>28335</td>\n      <td>236</td>\n      <td>182</td>\n    </tr>\n    <tr>\n      <th>28335</th>\n      <td>28336</td>\n      <td>144</td>\n      <td>93</td>\n    </tr>\n    <tr>\n      <th>28336</th>\n      <td>28337</td>\n      <td>609</td>\n      <td>82</td>\n    </tr>\n  </tbody>\n</table>\n<p>28337 rows × 3 columns</p>\n</div>"
     },
     "execution_count": 30,
     "metadata": {},
     "output_type": "execute_result"
    }
   ],
   "source": [
    "query = f\"SELECT DISTINCT (SELECT Event_ID FROM Event e where e.Event_Name = a.Event) as Event_ID, (SELECT Country_ID FROM Country c where c.NOC = a.NOC) as Country_ID FROM {table_name} a;\"\n",
    "Events_Of_Country = pd.read_sql_query(query, conn)\n",
    "Events_Of_Country = Events_Of_Country.reset_index()\n",
    "Events_Of_Country['index'] = Events_Of_Country['index'] + 1\n",
    "\n",
    "Events_Of_Country"
   ],
   "metadata": {
    "collapsed": false,
    "pycharm": {
     "name": "#%%\n"
    }
   }
  },
  {
   "cell_type": "code",
   "execution_count": 31,
   "outputs": [],
   "source": [
    "conn.execute(\"DELETE from Events_Of_Country\")\n",
    "\n",
    "# 从table_data中逐行读取数据并插入到各个表中\n",
    "for index, row in Events_Of_Country.iterrows():\n",
    "    # 插入Events_Of_Country表\n",
    "    query = f\"INSERT INTO Events_Of_Country VALUES (?, ?, ?)\"\n",
    "    row = [None if pd.isna(value) or value == 'NA' else value for value in row]\n",
    "    conn.execute(query, row)\n",
    "\n",
    "conn.commit()"
   ],
   "metadata": {
    "collapsed": false,
    "pycharm": {
     "name": "#%%\n"
    }
   }
  },
  {
   "cell_type": "code",
   "execution_count": 32,
   "outputs": [
    {
     "data": {
      "text/plain": "          ID  Country_ID  Event_ID\n0          1           0        42\n1          2           1        42\n2          3           2        56\n3          4           3        56\n4          5           4       146\n...      ...         ...       ...\n28332  28333          11       127\n28333  28334         641       182\n28334  28335         236       182\n28335  28336         144        93\n28336  28337         609        82\n\n[28337 rows x 3 columns]",
      "text/html": "<div>\n<style scoped>\n    .dataframe tbody tr th:only-of-type {\n        vertical-align: middle;\n    }\n\n    .dataframe tbody tr th {\n        vertical-align: top;\n    }\n\n    .dataframe thead th {\n        text-align: right;\n    }\n</style>\n<table border=\"1\" class=\"dataframe\">\n  <thead>\n    <tr style=\"text-align: right;\">\n      <th></th>\n      <th>ID</th>\n      <th>Country_ID</th>\n      <th>Event_ID</th>\n    </tr>\n  </thead>\n  <tbody>\n    <tr>\n      <th>0</th>\n      <td>1</td>\n      <td>0</td>\n      <td>42</td>\n    </tr>\n    <tr>\n      <th>1</th>\n      <td>2</td>\n      <td>1</td>\n      <td>42</td>\n    </tr>\n    <tr>\n      <th>2</th>\n      <td>3</td>\n      <td>2</td>\n      <td>56</td>\n    </tr>\n    <tr>\n      <th>3</th>\n      <td>4</td>\n      <td>3</td>\n      <td>56</td>\n    </tr>\n    <tr>\n      <th>4</th>\n      <td>5</td>\n      <td>4</td>\n      <td>146</td>\n    </tr>\n    <tr>\n      <th>...</th>\n      <td>...</td>\n      <td>...</td>\n      <td>...</td>\n    </tr>\n    <tr>\n      <th>28332</th>\n      <td>28333</td>\n      <td>11</td>\n      <td>127</td>\n    </tr>\n    <tr>\n      <th>28333</th>\n      <td>28334</td>\n      <td>641</td>\n      <td>182</td>\n    </tr>\n    <tr>\n      <th>28334</th>\n      <td>28335</td>\n      <td>236</td>\n      <td>182</td>\n    </tr>\n    <tr>\n      <th>28335</th>\n      <td>28336</td>\n      <td>144</td>\n      <td>93</td>\n    </tr>\n    <tr>\n      <th>28336</th>\n      <td>28337</td>\n      <td>609</td>\n      <td>82</td>\n    </tr>\n  </tbody>\n</table>\n<p>28337 rows × 3 columns</p>\n</div>"
     },
     "execution_count": 32,
     "metadata": {},
     "output_type": "execute_result"
    }
   ],
   "source": [
    "query = f\"SELECT * from Events_Of_Country;\"\n",
    "data = pd.read_sql_query(query, conn)\n",
    "data"
   ],
   "metadata": {
    "collapsed": false,
    "pycharm": {
     "name": "#%%\n"
    }
   }
  },
  {
   "cell_type": "code",
   "execution_count": 33,
   "outputs": [
    {
     "data": {
      "text/plain": "         index  Event_ID  Athlete_ID\n0            1         0          10\n1            2         1          11\n2            3         2       64755\n3            4         3       43178\n4            5         4       31404\n...        ...       ...         ...\n207429  207430        82      141245\n207430  207431       461       12721\n207431  207432       418      150876\n207432  207433       419      150876\n207433  207434        50      180181\n\n[207434 rows x 3 columns]",
      "text/html": "<div>\n<style scoped>\n    .dataframe tbody tr th:only-of-type {\n        vertical-align: middle;\n    }\n\n    .dataframe tbody tr th {\n        vertical-align: top;\n    }\n\n    .dataframe thead th {\n        text-align: right;\n    }\n</style>\n<table border=\"1\" class=\"dataframe\">\n  <thead>\n    <tr style=\"text-align: right;\">\n      <th></th>\n      <th>index</th>\n      <th>Event_ID</th>\n      <th>Athlete_ID</th>\n    </tr>\n  </thead>\n  <tbody>\n    <tr>\n      <th>0</th>\n      <td>1</td>\n      <td>0</td>\n      <td>10</td>\n    </tr>\n    <tr>\n      <th>1</th>\n      <td>2</td>\n      <td>1</td>\n      <td>11</td>\n    </tr>\n    <tr>\n      <th>2</th>\n      <td>3</td>\n      <td>2</td>\n      <td>64755</td>\n    </tr>\n    <tr>\n      <th>3</th>\n      <td>4</td>\n      <td>3</td>\n      <td>43178</td>\n    </tr>\n    <tr>\n      <th>4</th>\n      <td>5</td>\n      <td>4</td>\n      <td>31404</td>\n    </tr>\n    <tr>\n      <th>...</th>\n      <td>...</td>\n      <td>...</td>\n      <td>...</td>\n    </tr>\n    <tr>\n      <th>207429</th>\n      <td>207430</td>\n      <td>82</td>\n      <td>141245</td>\n    </tr>\n    <tr>\n      <th>207430</th>\n      <td>207431</td>\n      <td>461</td>\n      <td>12721</td>\n    </tr>\n    <tr>\n      <th>207431</th>\n      <td>207432</td>\n      <td>418</td>\n      <td>150876</td>\n    </tr>\n    <tr>\n      <th>207432</th>\n      <td>207433</td>\n      <td>419</td>\n      <td>150876</td>\n    </tr>\n    <tr>\n      <th>207433</th>\n      <td>207434</td>\n      <td>50</td>\n      <td>180181</td>\n    </tr>\n  </tbody>\n</table>\n<p>207434 rows × 3 columns</p>\n</div>"
     },
     "execution_count": 33,
     "metadata": {},
     "output_type": "execute_result"
    }
   ],
   "source": [
    "query = f\"SELECT DISTINCT (SELECT Event_ID FROM Event e where e.Event_Name = a.Event) as Event_ID, (SELECT Athlete_ID FROM Athlete c where c.Name = a.Name) as Athlete_ID FROM {table_name} a;\"\n",
    "Events_Of_Athlete = pd.read_sql_query(query, conn)\n",
    "Events_Of_Athlete = Events_Of_Athlete.reset_index()\n",
    "Events_Of_Athlete['index'] = Events_Of_Athlete['index'] + 1\n",
    "\n",
    "Events_Of_Athlete"
   ],
   "metadata": {
    "collapsed": false,
    "pycharm": {
     "name": "#%%\n"
    }
   }
  },
  {
   "cell_type": "code",
   "execution_count": 35,
   "outputs": [],
   "source": [
    "conn.execute(\"DELETE from Events_Of_Athlete\")\n",
    "\n",
    "# 从table_data中逐行读取数据并插入到各个表中\n",
    "for index, row in Events_Of_Athlete.iterrows():\n",
    "    # 插入Events_Of_Athlete表\n",
    "    query = f\"INSERT INTO Events_Of_Athlete VALUES (?, ?, ?)\"\n",
    "    row = [None if pd.isna(value) or value == 'NA' else value for value in row]\n",
    "    conn.execute(query, row)\n",
    "\n",
    "conn.commit()"
   ],
   "metadata": {
    "collapsed": false,
    "pycharm": {
     "name": "#%%\n"
    }
   }
  },
  {
   "cell_type": "code",
   "execution_count": 44,
   "outputs": [
    {
     "data": {
      "text/plain": "            ID  Athlete_ID  Event_ID\n0            1           0        10\n1            2           1        11\n2            3           2     64755\n3            4           3     43178\n4            5           4     31404\n...        ...         ...       ...\n207429  207430          82    141245\n207430  207431         461     12721\n207431  207432         418    150876\n207432  207433         419    150876\n207433  207434          50    180181\n\n[207434 rows x 3 columns]",
      "text/html": "<div>\n<style scoped>\n    .dataframe tbody tr th:only-of-type {\n        vertical-align: middle;\n    }\n\n    .dataframe tbody tr th {\n        vertical-align: top;\n    }\n\n    .dataframe thead th {\n        text-align: right;\n    }\n</style>\n<table border=\"1\" class=\"dataframe\">\n  <thead>\n    <tr style=\"text-align: right;\">\n      <th></th>\n      <th>ID</th>\n      <th>Athlete_ID</th>\n      <th>Event_ID</th>\n    </tr>\n  </thead>\n  <tbody>\n    <tr>\n      <th>0</th>\n      <td>1</td>\n      <td>0</td>\n      <td>10</td>\n    </tr>\n    <tr>\n      <th>1</th>\n      <td>2</td>\n      <td>1</td>\n      <td>11</td>\n    </tr>\n    <tr>\n      <th>2</th>\n      <td>3</td>\n      <td>2</td>\n      <td>64755</td>\n    </tr>\n    <tr>\n      <th>3</th>\n      <td>4</td>\n      <td>3</td>\n      <td>43178</td>\n    </tr>\n    <tr>\n      <th>4</th>\n      <td>5</td>\n      <td>4</td>\n      <td>31404</td>\n    </tr>\n    <tr>\n      <th>...</th>\n      <td>...</td>\n      <td>...</td>\n      <td>...</td>\n    </tr>\n    <tr>\n      <th>207429</th>\n      <td>207430</td>\n      <td>82</td>\n      <td>141245</td>\n    </tr>\n    <tr>\n      <th>207430</th>\n      <td>207431</td>\n      <td>461</td>\n      <td>12721</td>\n    </tr>\n    <tr>\n      <th>207431</th>\n      <td>207432</td>\n      <td>418</td>\n      <td>150876</td>\n    </tr>\n    <tr>\n      <th>207432</th>\n      <td>207433</td>\n      <td>419</td>\n      <td>150876</td>\n    </tr>\n    <tr>\n      <th>207433</th>\n      <td>207434</td>\n      <td>50</td>\n      <td>180181</td>\n    </tr>\n  </tbody>\n</table>\n<p>207434 rows × 3 columns</p>\n</div>"
     },
     "execution_count": 44,
     "metadata": {},
     "output_type": "execute_result"
    }
   ],
   "source": [
    "query = f\"SELECT * from Events_Of_Athlete;\"\n",
    "data = pd.read_sql_query(query, conn)\n",
    "data"
   ],
   "metadata": {
    "collapsed": false,
    "pycharm": {
     "name": "#%%\n"
    }
   }
  },
  {
   "cell_type": "code",
   "execution_count": 37,
   "outputs": [
    {
     "data": {
      "text/plain": "      index  Country_ID  Game_ID\n0         1          42       38\n1         2          42       49\n2         3          56        6\n3         4          56        1\n4         5         146       37\n...     ...         ...      ...\n3832   3833         191        4\n3833   3834         163        5\n3834   3835          42       17\n3835   3836         203       47\n3836   3837         208       40\n\n[3837 rows x 3 columns]",
      "text/html": "<div>\n<style scoped>\n    .dataframe tbody tr th:only-of-type {\n        vertical-align: middle;\n    }\n\n    .dataframe tbody tr th {\n        vertical-align: top;\n    }\n\n    .dataframe thead th {\n        text-align: right;\n    }\n</style>\n<table border=\"1\" class=\"dataframe\">\n  <thead>\n    <tr style=\"text-align: right;\">\n      <th></th>\n      <th>index</th>\n      <th>Country_ID</th>\n      <th>Game_ID</th>\n    </tr>\n  </thead>\n  <tbody>\n    <tr>\n      <th>0</th>\n      <td>1</td>\n      <td>42</td>\n      <td>38</td>\n    </tr>\n    <tr>\n      <th>1</th>\n      <td>2</td>\n      <td>42</td>\n      <td>49</td>\n    </tr>\n    <tr>\n      <th>2</th>\n      <td>3</td>\n      <td>56</td>\n      <td>6</td>\n    </tr>\n    <tr>\n      <th>3</th>\n      <td>4</td>\n      <td>56</td>\n      <td>1</td>\n    </tr>\n    <tr>\n      <th>4</th>\n      <td>5</td>\n      <td>146</td>\n      <td>37</td>\n    </tr>\n    <tr>\n      <th>...</th>\n      <td>...</td>\n      <td>...</td>\n      <td>...</td>\n    </tr>\n    <tr>\n      <th>3832</th>\n      <td>3833</td>\n      <td>191</td>\n      <td>4</td>\n    </tr>\n    <tr>\n      <th>3833</th>\n      <td>3834</td>\n      <td>163</td>\n      <td>5</td>\n    </tr>\n    <tr>\n      <th>3834</th>\n      <td>3835</td>\n      <td>42</td>\n      <td>17</td>\n    </tr>\n    <tr>\n      <th>3835</th>\n      <td>3836</td>\n      <td>203</td>\n      <td>47</td>\n    </tr>\n    <tr>\n      <th>3836</th>\n      <td>3837</td>\n      <td>208</td>\n      <td>40</td>\n    </tr>\n  </tbody>\n</table>\n<p>3837 rows × 3 columns</p>\n</div>"
     },
     "execution_count": 37,
     "metadata": {},
     "output_type": "execute_result"
    }
   ],
   "source": [
    "query = f\"SELECT DISTINCT (SELECT Country_ID FROM Country c where c.NOC = a.NOC) as Country_ID, (SELECT Game_ID FROM Game g where g.Games = a.Games) as Game_ID FROM {table_name} a;\"\n",
    "Games_Of_Country = pd.read_sql_query(query, conn)\n",
    "Games_Of_Country = Games_Of_Country.reset_index()\n",
    "Games_Of_Country['index'] = Games_Of_Country['index'] + 1\n",
    "\n",
    "Games_Of_Country"
   ],
   "metadata": {
    "collapsed": false,
    "pycharm": {
     "name": "#%%\n"
    }
   }
  },
  {
   "cell_type": "code",
   "execution_count": 38,
   "outputs": [],
   "source": [
    "conn.execute(\"DELETE from Games_Of_Country\")\n",
    "\n",
    "# 从table_data中逐行读取数据并插入到各个表中\n",
    "for index, row in Games_Of_Country.iterrows():\n",
    "    # 插入Events_Of_Athlete表\n",
    "    query = f\"INSERT INTO Games_Of_Country VALUES (?, ?, ?)\"\n",
    "    row = [None if pd.isna(value) or value == 'NA' else value for value in row]\n",
    "    conn.execute(query, row)\n",
    "\n",
    "conn.commit()"
   ],
   "metadata": {
    "collapsed": false,
    "pycharm": {
     "name": "#%%\n"
    }
   }
  },
  {
   "cell_type": "code",
   "execution_count": 43,
   "outputs": [
    {
     "data": {
      "text/plain": "        ID  Country_ID  Game_ID\n0        1          42       38\n1        2          42       49\n2        3          56        6\n3        4          56        1\n4        5         146       37\n...    ...         ...      ...\n3832  3833         191        4\n3833  3834         163        5\n3834  3835          42       17\n3835  3836         203       47\n3836  3837         208       40\n\n[3837 rows x 3 columns]",
      "text/html": "<div>\n<style scoped>\n    .dataframe tbody tr th:only-of-type {\n        vertical-align: middle;\n    }\n\n    .dataframe tbody tr th {\n        vertical-align: top;\n    }\n\n    .dataframe thead th {\n        text-align: right;\n    }\n</style>\n<table border=\"1\" class=\"dataframe\">\n  <thead>\n    <tr style=\"text-align: right;\">\n      <th></th>\n      <th>ID</th>\n      <th>Country_ID</th>\n      <th>Game_ID</th>\n    </tr>\n  </thead>\n  <tbody>\n    <tr>\n      <th>0</th>\n      <td>1</td>\n      <td>42</td>\n      <td>38</td>\n    </tr>\n    <tr>\n      <th>1</th>\n      <td>2</td>\n      <td>42</td>\n      <td>49</td>\n    </tr>\n    <tr>\n      <th>2</th>\n      <td>3</td>\n      <td>56</td>\n      <td>6</td>\n    </tr>\n    <tr>\n      <th>3</th>\n      <td>4</td>\n      <td>56</td>\n      <td>1</td>\n    </tr>\n    <tr>\n      <th>4</th>\n      <td>5</td>\n      <td>146</td>\n      <td>37</td>\n    </tr>\n    <tr>\n      <th>...</th>\n      <td>...</td>\n      <td>...</td>\n      <td>...</td>\n    </tr>\n    <tr>\n      <th>3832</th>\n      <td>3833</td>\n      <td>191</td>\n      <td>4</td>\n    </tr>\n    <tr>\n      <th>3833</th>\n      <td>3834</td>\n      <td>163</td>\n      <td>5</td>\n    </tr>\n    <tr>\n      <th>3834</th>\n      <td>3835</td>\n      <td>42</td>\n      <td>17</td>\n    </tr>\n    <tr>\n      <th>3835</th>\n      <td>3836</td>\n      <td>203</td>\n      <td>47</td>\n    </tr>\n    <tr>\n      <th>3836</th>\n      <td>3837</td>\n      <td>208</td>\n      <td>40</td>\n    </tr>\n  </tbody>\n</table>\n<p>3837 rows × 3 columns</p>\n</div>"
     },
     "execution_count": 43,
     "metadata": {},
     "output_type": "execute_result"
    }
   ],
   "source": [
    "query = f\"SELECT * from Games_Of_Country;\"\n",
    "data = pd.read_sql_query(query, conn)\n",
    "data"
   ],
   "metadata": {
    "collapsed": false,
    "pycharm": {
     "name": "#%%\n"
    }
   }
  },
  {
   "cell_type": "code",
   "execution_count": 7,
   "outputs": [],
   "source": [
    "# 关闭数据库连接\n",
    "conn.close()"
   ],
   "metadata": {
    "collapsed": false,
    "pycharm": {
     "name": "#%%\n"
    }
   }
  },
  {
   "cell_type": "code",
   "execution_count": null,
   "outputs": [],
   "source": [],
   "metadata": {
    "collapsed": false,
    "pycharm": {
     "name": "#%%\n"
    }
   }
  }
 ],
 "metadata": {
  "kernelspec": {
   "display_name": "Python 3",
   "language": "python",
   "name": "python3"
  },
  "language_info": {
   "codemirror_mode": {
    "name": "ipython",
    "version": 2
   },
   "file_extension": ".py",
   "mimetype": "text/x-python",
   "name": "python",
   "nbconvert_exporter": "python",
   "pygments_lexer": "ipython2",
   "version": "2.7.6"
  }
 },
 "nbformat": 4,
 "nbformat_minor": 0
}